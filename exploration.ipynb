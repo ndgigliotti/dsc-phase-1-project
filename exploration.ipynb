{
 "cells": [
  {
   "cell_type": "code",
   "execution_count": 1,
   "metadata": {},
   "outputs": [],
   "source": [
    "import os\n",
    "import re\n",
    "import pandas as pd\n",
    "import numpy as np\n",
    "import glob\n",
    "import utils"
   ]
  },
  {
   "source": [
    "### Recommended\n",
    "* imdb.title.basics\n",
    "* imdb.title.ratings\n",
    "* bom.movie_gross"
   ],
   "cell_type": "markdown",
   "metadata": {}
  },
  {
   "cell_type": "code",
   "execution_count": 2,
   "metadata": {},
   "outputs": [
    {
     "output_type": "display_data",
     "data": {
      "text/plain": "'zippedData\\\\bom.movie_gross.csv.gz'"
     },
     "metadata": {}
    },
    {
     "output_type": "display_data",
     "data": {
      "text/plain": "                                         title studio  domestic_gross  \\\n0                                  Toy Story 3     BV     415000000.0   \n1                   Alice in Wonderland (2010)     BV     334200000.0   \n2  Harry Potter and the Deathly Hallows Part 1     WB     296000000.0   \n3                                    Inception     WB     292600000.0   \n4                          Shrek Forever After   P/DW     238700000.0   \n\n  foreign_gross  year  \n0     652000000  2010  \n1     691300000  2010  \n2     664300000  2010  \n3     535700000  2010  \n4     513900000  2010  ",
      "text/html": "<div>\n<style scoped>\n    .dataframe tbody tr th:only-of-type {\n        vertical-align: middle;\n    }\n\n    .dataframe tbody tr th {\n        vertical-align: top;\n    }\n\n    .dataframe thead th {\n        text-align: right;\n    }\n</style>\n<table border=\"1\" class=\"dataframe\">\n  <thead>\n    <tr style=\"text-align: right;\">\n      <th></th>\n      <th>title</th>\n      <th>studio</th>\n      <th>domestic_gross</th>\n      <th>foreign_gross</th>\n      <th>year</th>\n    </tr>\n  </thead>\n  <tbody>\n    <tr>\n      <th>0</th>\n      <td>Toy Story 3</td>\n      <td>BV</td>\n      <td>415000000.0</td>\n      <td>652000000</td>\n      <td>2010</td>\n    </tr>\n    <tr>\n      <th>1</th>\n      <td>Alice in Wonderland (2010)</td>\n      <td>BV</td>\n      <td>334200000.0</td>\n      <td>691300000</td>\n      <td>2010</td>\n    </tr>\n    <tr>\n      <th>2</th>\n      <td>Harry Potter and the Deathly Hallows Part 1</td>\n      <td>WB</td>\n      <td>296000000.0</td>\n      <td>664300000</td>\n      <td>2010</td>\n    </tr>\n    <tr>\n      <th>3</th>\n      <td>Inception</td>\n      <td>WB</td>\n      <td>292600000.0</td>\n      <td>535700000</td>\n      <td>2010</td>\n    </tr>\n    <tr>\n      <th>4</th>\n      <td>Shrek Forever After</td>\n      <td>P/DW</td>\n      <td>238700000.0</td>\n      <td>513900000</td>\n      <td>2010</td>\n    </tr>\n  </tbody>\n</table>\n</div>"
     },
     "metadata": {}
    },
    {
     "output_type": "display_data",
     "data": {
      "text/plain": "(3387, 5)"
     },
     "metadata": {}
    },
    {
     "output_type": "display_data",
     "data": {
      "text/plain": "'zippedData\\\\imdb.name.basics.csv.gz'"
     },
     "metadata": {}
    },
    {
     "output_type": "display_data",
     "data": {
      "text/plain": "      nconst       primary_name  birth_year  death_year  \\\n0  nm0061671  Mary Ellen Bauder         NaN         NaN   \n1  nm0061865       Joseph Bauer         NaN         NaN   \n2  nm0062070         Bruce Baum         NaN         NaN   \n3  nm0062195       Axel Baumann         NaN         NaN   \n4  nm0062798        Pete Baxter         NaN         NaN   \n\n                                 primary_profession  \\\n0         miscellaneous,production_manager,producer   \n1        composer,music_department,sound_department   \n2                        miscellaneous,actor,writer   \n3  camera_department,cinematographer,art_department   \n4  production_designer,art_department,set_decorator   \n\n                          known_for_titles  \n0  tt0837562,tt2398241,tt0844471,tt0118553  \n1  tt0896534,tt6791238,tt0287072,tt1682940  \n2  tt1470654,tt0363631,tt0104030,tt0102898  \n3  tt0114371,tt2004304,tt1618448,tt1224387  \n4  tt0452644,tt0452692,tt3458030,tt2178256  ",
      "text/html": "<div>\n<style scoped>\n    .dataframe tbody tr th:only-of-type {\n        vertical-align: middle;\n    }\n\n    .dataframe tbody tr th {\n        vertical-align: top;\n    }\n\n    .dataframe thead th {\n        text-align: right;\n    }\n</style>\n<table border=\"1\" class=\"dataframe\">\n  <thead>\n    <tr style=\"text-align: right;\">\n      <th></th>\n      <th>nconst</th>\n      <th>primary_name</th>\n      <th>birth_year</th>\n      <th>death_year</th>\n      <th>primary_profession</th>\n      <th>known_for_titles</th>\n    </tr>\n  </thead>\n  <tbody>\n    <tr>\n      <th>0</th>\n      <td>nm0061671</td>\n      <td>Mary Ellen Bauder</td>\n      <td>NaN</td>\n      <td>NaN</td>\n      <td>miscellaneous,production_manager,producer</td>\n      <td>tt0837562,tt2398241,tt0844471,tt0118553</td>\n    </tr>\n    <tr>\n      <th>1</th>\n      <td>nm0061865</td>\n      <td>Joseph Bauer</td>\n      <td>NaN</td>\n      <td>NaN</td>\n      <td>composer,music_department,sound_department</td>\n      <td>tt0896534,tt6791238,tt0287072,tt1682940</td>\n    </tr>\n    <tr>\n      <th>2</th>\n      <td>nm0062070</td>\n      <td>Bruce Baum</td>\n      <td>NaN</td>\n      <td>NaN</td>\n      <td>miscellaneous,actor,writer</td>\n      <td>tt1470654,tt0363631,tt0104030,tt0102898</td>\n    </tr>\n    <tr>\n      <th>3</th>\n      <td>nm0062195</td>\n      <td>Axel Baumann</td>\n      <td>NaN</td>\n      <td>NaN</td>\n      <td>camera_department,cinematographer,art_department</td>\n      <td>tt0114371,tt2004304,tt1618448,tt1224387</td>\n    </tr>\n    <tr>\n      <th>4</th>\n      <td>nm0062798</td>\n      <td>Pete Baxter</td>\n      <td>NaN</td>\n      <td>NaN</td>\n      <td>production_designer,art_department,set_decorator</td>\n      <td>tt0452644,tt0452692,tt3458030,tt2178256</td>\n    </tr>\n  </tbody>\n</table>\n</div>"
     },
     "metadata": {}
    },
    {
     "output_type": "display_data",
     "data": {
      "text/plain": "(606648, 6)"
     },
     "metadata": {}
    },
    {
     "output_type": "display_data",
     "data": {
      "text/plain": "'zippedData\\\\imdb.title.akas.csv.gz'"
     },
     "metadata": {}
    },
    {
     "output_type": "display_data",
     "data": {
      "text/plain": "    title_id  ordering                                    title region  \\\n0  tt0369610        10                            Джурасик свят     BG   \n1  tt0369610        11                        Jurashikku warudo     JP   \n2  tt0369610        12  Jurassic World: O Mundo dos Dinossauros     BR   \n3  tt0369610        13                  O Mundo dos Dinossauros     BR   \n4  tt0369610        14                           Jurassic World     FR   \n\n  language        types   attributes  is_original_title  \n0       bg          NaN          NaN                0.0  \n1      NaN  imdbDisplay          NaN                0.0  \n2      NaN  imdbDisplay          NaN                0.0  \n3      NaN          NaN  short title                0.0  \n4      NaN  imdbDisplay          NaN                0.0  ",
      "text/html": "<div>\n<style scoped>\n    .dataframe tbody tr th:only-of-type {\n        vertical-align: middle;\n    }\n\n    .dataframe tbody tr th {\n        vertical-align: top;\n    }\n\n    .dataframe thead th {\n        text-align: right;\n    }\n</style>\n<table border=\"1\" class=\"dataframe\">\n  <thead>\n    <tr style=\"text-align: right;\">\n      <th></th>\n      <th>title_id</th>\n      <th>ordering</th>\n      <th>title</th>\n      <th>region</th>\n      <th>language</th>\n      <th>types</th>\n      <th>attributes</th>\n      <th>is_original_title</th>\n    </tr>\n  </thead>\n  <tbody>\n    <tr>\n      <th>0</th>\n      <td>tt0369610</td>\n      <td>10</td>\n      <td>Джурасик свят</td>\n      <td>BG</td>\n      <td>bg</td>\n      <td>NaN</td>\n      <td>NaN</td>\n      <td>0.0</td>\n    </tr>\n    <tr>\n      <th>1</th>\n      <td>tt0369610</td>\n      <td>11</td>\n      <td>Jurashikku warudo</td>\n      <td>JP</td>\n      <td>NaN</td>\n      <td>imdbDisplay</td>\n      <td>NaN</td>\n      <td>0.0</td>\n    </tr>\n    <tr>\n      <th>2</th>\n      <td>tt0369610</td>\n      <td>12</td>\n      <td>Jurassic World: O Mundo dos Dinossauros</td>\n      <td>BR</td>\n      <td>NaN</td>\n      <td>imdbDisplay</td>\n      <td>NaN</td>\n      <td>0.0</td>\n    </tr>\n    <tr>\n      <th>3</th>\n      <td>tt0369610</td>\n      <td>13</td>\n      <td>O Mundo dos Dinossauros</td>\n      <td>BR</td>\n      <td>NaN</td>\n      <td>NaN</td>\n      <td>short title</td>\n      <td>0.0</td>\n    </tr>\n    <tr>\n      <th>4</th>\n      <td>tt0369610</td>\n      <td>14</td>\n      <td>Jurassic World</td>\n      <td>FR</td>\n      <td>NaN</td>\n      <td>imdbDisplay</td>\n      <td>NaN</td>\n      <td>0.0</td>\n    </tr>\n  </tbody>\n</table>\n</div>"
     },
     "metadata": {}
    },
    {
     "output_type": "display_data",
     "data": {
      "text/plain": "(331703, 8)"
     },
     "metadata": {}
    },
    {
     "output_type": "display_data",
     "data": {
      "text/plain": "'zippedData\\\\imdb.title.basics.csv.gz'"
     },
     "metadata": {}
    },
    {
     "output_type": "display_data",
     "data": {
      "text/plain": "      tconst                    primary_title              original_title  \\\n0  tt0063540                        Sunghursh                   Sunghursh   \n1  tt0066787  One Day Before the Rainy Season             Ashad Ka Ek Din   \n2  tt0069049       The Other Side of the Wind  The Other Side of the Wind   \n3  tt0069204                  Sabse Bada Sukh             Sabse Bada Sukh   \n4  tt0100275         The Wandering Soap Opera       La Telenovela Errante   \n\n   start_year  runtime_minutes                genres  \n0        2013            175.0    Action,Crime,Drama  \n1        2019            114.0       Biography,Drama  \n2        2018            122.0                 Drama  \n3        2018              NaN          Comedy,Drama  \n4        2017             80.0  Comedy,Drama,Fantasy  ",
      "text/html": "<div>\n<style scoped>\n    .dataframe tbody tr th:only-of-type {\n        vertical-align: middle;\n    }\n\n    .dataframe tbody tr th {\n        vertical-align: top;\n    }\n\n    .dataframe thead th {\n        text-align: right;\n    }\n</style>\n<table border=\"1\" class=\"dataframe\">\n  <thead>\n    <tr style=\"text-align: right;\">\n      <th></th>\n      <th>tconst</th>\n      <th>primary_title</th>\n      <th>original_title</th>\n      <th>start_year</th>\n      <th>runtime_minutes</th>\n      <th>genres</th>\n    </tr>\n  </thead>\n  <tbody>\n    <tr>\n      <th>0</th>\n      <td>tt0063540</td>\n      <td>Sunghursh</td>\n      <td>Sunghursh</td>\n      <td>2013</td>\n      <td>175.0</td>\n      <td>Action,Crime,Drama</td>\n    </tr>\n    <tr>\n      <th>1</th>\n      <td>tt0066787</td>\n      <td>One Day Before the Rainy Season</td>\n      <td>Ashad Ka Ek Din</td>\n      <td>2019</td>\n      <td>114.0</td>\n      <td>Biography,Drama</td>\n    </tr>\n    <tr>\n      <th>2</th>\n      <td>tt0069049</td>\n      <td>The Other Side of the Wind</td>\n      <td>The Other Side of the Wind</td>\n      <td>2018</td>\n      <td>122.0</td>\n      <td>Drama</td>\n    </tr>\n    <tr>\n      <th>3</th>\n      <td>tt0069204</td>\n      <td>Sabse Bada Sukh</td>\n      <td>Sabse Bada Sukh</td>\n      <td>2018</td>\n      <td>NaN</td>\n      <td>Comedy,Drama</td>\n    </tr>\n    <tr>\n      <th>4</th>\n      <td>tt0100275</td>\n      <td>The Wandering Soap Opera</td>\n      <td>La Telenovela Errante</td>\n      <td>2017</td>\n      <td>80.0</td>\n      <td>Comedy,Drama,Fantasy</td>\n    </tr>\n  </tbody>\n</table>\n</div>"
     },
     "metadata": {}
    },
    {
     "output_type": "display_data",
     "data": {
      "text/plain": "(146144, 6)"
     },
     "metadata": {}
    },
    {
     "output_type": "display_data",
     "data": {
      "text/plain": "'zippedData\\\\imdb.title.crew.csv.gz'"
     },
     "metadata": {}
    },
    {
     "output_type": "display_data",
     "data": {
      "text/plain": "      tconst                      directors              writers\n0  tt0285252                      nm0899854            nm0899854\n1  tt0438973                            NaN  nm0175726,nm1802864\n2  tt0462036                      nm1940585            nm1940585\n3  tt0835418                      nm0151540  nm0310087,nm0841532\n4  tt0878654  nm0089502,nm2291498,nm2292011            nm0284943",
      "text/html": "<div>\n<style scoped>\n    .dataframe tbody tr th:only-of-type {\n        vertical-align: middle;\n    }\n\n    .dataframe tbody tr th {\n        vertical-align: top;\n    }\n\n    .dataframe thead th {\n        text-align: right;\n    }\n</style>\n<table border=\"1\" class=\"dataframe\">\n  <thead>\n    <tr style=\"text-align: right;\">\n      <th></th>\n      <th>tconst</th>\n      <th>directors</th>\n      <th>writers</th>\n    </tr>\n  </thead>\n  <tbody>\n    <tr>\n      <th>0</th>\n      <td>tt0285252</td>\n      <td>nm0899854</td>\n      <td>nm0899854</td>\n    </tr>\n    <tr>\n      <th>1</th>\n      <td>tt0438973</td>\n      <td>NaN</td>\n      <td>nm0175726,nm1802864</td>\n    </tr>\n    <tr>\n      <th>2</th>\n      <td>tt0462036</td>\n      <td>nm1940585</td>\n      <td>nm1940585</td>\n    </tr>\n    <tr>\n      <th>3</th>\n      <td>tt0835418</td>\n      <td>nm0151540</td>\n      <td>nm0310087,nm0841532</td>\n    </tr>\n    <tr>\n      <th>4</th>\n      <td>tt0878654</td>\n      <td>nm0089502,nm2291498,nm2292011</td>\n      <td>nm0284943</td>\n    </tr>\n  </tbody>\n</table>\n</div>"
     },
     "metadata": {}
    },
    {
     "output_type": "display_data",
     "data": {
      "text/plain": "(146144, 3)"
     },
     "metadata": {}
    },
    {
     "output_type": "display_data",
     "data": {
      "text/plain": "'zippedData\\\\imdb.title.principals.csv.gz'"
     },
     "metadata": {}
    },
    {
     "output_type": "display_data",
     "data": {
      "text/plain": "      tconst  ordering     nconst  category       job        characters\n0  tt0111414         1  nm0246005     actor       NaN       [\"The Man\"]\n1  tt0111414         2  nm0398271  director       NaN               NaN\n2  tt0111414         3  nm3739909  producer  producer               NaN\n3  tt0323808        10  nm0059247    editor       NaN               NaN\n4  tt0323808         1  nm3579312   actress       NaN  [\"Beth Boothby\"]",
      "text/html": "<div>\n<style scoped>\n    .dataframe tbody tr th:only-of-type {\n        vertical-align: middle;\n    }\n\n    .dataframe tbody tr th {\n        vertical-align: top;\n    }\n\n    .dataframe thead th {\n        text-align: right;\n    }\n</style>\n<table border=\"1\" class=\"dataframe\">\n  <thead>\n    <tr style=\"text-align: right;\">\n      <th></th>\n      <th>tconst</th>\n      <th>ordering</th>\n      <th>nconst</th>\n      <th>category</th>\n      <th>job</th>\n      <th>characters</th>\n    </tr>\n  </thead>\n  <tbody>\n    <tr>\n      <th>0</th>\n      <td>tt0111414</td>\n      <td>1</td>\n      <td>nm0246005</td>\n      <td>actor</td>\n      <td>NaN</td>\n      <td>[\"The Man\"]</td>\n    </tr>\n    <tr>\n      <th>1</th>\n      <td>tt0111414</td>\n      <td>2</td>\n      <td>nm0398271</td>\n      <td>director</td>\n      <td>NaN</td>\n      <td>NaN</td>\n    </tr>\n    <tr>\n      <th>2</th>\n      <td>tt0111414</td>\n      <td>3</td>\n      <td>nm3739909</td>\n      <td>producer</td>\n      <td>producer</td>\n      <td>NaN</td>\n    </tr>\n    <tr>\n      <th>3</th>\n      <td>tt0323808</td>\n      <td>10</td>\n      <td>nm0059247</td>\n      <td>editor</td>\n      <td>NaN</td>\n      <td>NaN</td>\n    </tr>\n    <tr>\n      <th>4</th>\n      <td>tt0323808</td>\n      <td>1</td>\n      <td>nm3579312</td>\n      <td>actress</td>\n      <td>NaN</td>\n      <td>[\"Beth Boothby\"]</td>\n    </tr>\n  </tbody>\n</table>\n</div>"
     },
     "metadata": {}
    },
    {
     "output_type": "display_data",
     "data": {
      "text/plain": "(1028186, 6)"
     },
     "metadata": {}
    },
    {
     "output_type": "display_data",
     "data": {
      "text/plain": "'zippedData\\\\imdb.title.ratings.csv.gz'"
     },
     "metadata": {}
    },
    {
     "output_type": "display_data",
     "data": {
      "text/plain": "       tconst  averagerating  numvotes\n0  tt10356526            8.3        31\n1  tt10384606            8.9       559\n2   tt1042974            6.4        20\n3   tt1043726            4.2     50352\n4   tt1060240            6.5        21",
      "text/html": "<div>\n<style scoped>\n    .dataframe tbody tr th:only-of-type {\n        vertical-align: middle;\n    }\n\n    .dataframe tbody tr th {\n        vertical-align: top;\n    }\n\n    .dataframe thead th {\n        text-align: right;\n    }\n</style>\n<table border=\"1\" class=\"dataframe\">\n  <thead>\n    <tr style=\"text-align: right;\">\n      <th></th>\n      <th>tconst</th>\n      <th>averagerating</th>\n      <th>numvotes</th>\n    </tr>\n  </thead>\n  <tbody>\n    <tr>\n      <th>0</th>\n      <td>tt10356526</td>\n      <td>8.3</td>\n      <td>31</td>\n    </tr>\n    <tr>\n      <th>1</th>\n      <td>tt10384606</td>\n      <td>8.9</td>\n      <td>559</td>\n    </tr>\n    <tr>\n      <th>2</th>\n      <td>tt1042974</td>\n      <td>6.4</td>\n      <td>20</td>\n    </tr>\n    <tr>\n      <th>3</th>\n      <td>tt1043726</td>\n      <td>4.2</td>\n      <td>50352</td>\n    </tr>\n    <tr>\n      <th>4</th>\n      <td>tt1060240</td>\n      <td>6.5</td>\n      <td>21</td>\n    </tr>\n  </tbody>\n</table>\n</div>"
     },
     "metadata": {}
    },
    {
     "output_type": "display_data",
     "data": {
      "text/plain": "(73856, 3)"
     },
     "metadata": {}
    },
    {
     "output_type": "display_data",
     "data": {
      "text/plain": "'zippedData\\\\tmdb.genres.csv'"
     },
     "metadata": {}
    },
    {
     "output_type": "display_data",
     "data": {
      "text/plain": "   id      genre\n0  12  Adventure\n1  14    Fantasy\n2  16  Animation\n3  18      Drama\n4  27     Horror",
      "text/html": "<div>\n<style scoped>\n    .dataframe tbody tr th:only-of-type {\n        vertical-align: middle;\n    }\n\n    .dataframe tbody tr th {\n        vertical-align: top;\n    }\n\n    .dataframe thead th {\n        text-align: right;\n    }\n</style>\n<table border=\"1\" class=\"dataframe\">\n  <thead>\n    <tr style=\"text-align: right;\">\n      <th></th>\n      <th>id</th>\n      <th>genre</th>\n    </tr>\n  </thead>\n  <tbody>\n    <tr>\n      <th>0</th>\n      <td>12</td>\n      <td>Adventure</td>\n    </tr>\n    <tr>\n      <th>1</th>\n      <td>14</td>\n      <td>Fantasy</td>\n    </tr>\n    <tr>\n      <th>2</th>\n      <td>16</td>\n      <td>Animation</td>\n    </tr>\n    <tr>\n      <th>3</th>\n      <td>18</td>\n      <td>Drama</td>\n    </tr>\n    <tr>\n      <th>4</th>\n      <td>27</td>\n      <td>Horror</td>\n    </tr>\n  </tbody>\n</table>\n</div>"
     },
     "metadata": {}
    },
    {
     "output_type": "display_data",
     "data": {
      "text/plain": "(20, 2)"
     },
     "metadata": {}
    },
    {
     "output_type": "display_data",
     "data": {
      "text/plain": "'zippedData\\\\tmdb.movies.csv.gz'"
     },
     "metadata": {}
    },
    {
     "output_type": "display_data",
     "data": {
      "text/plain": "   Unnamed: 0            genre_ids     id original_language  \\\n0           0      [12, 14, 10751]  12444                en   \n1           1  [14, 12, 16, 10751]  10191                en   \n2           2        [12, 28, 878]  10138                en   \n3           3      [16, 35, 10751]    862                en   \n4           4        [28, 878, 12]  27205                en   \n\n                                 original_title  popularity release_date  \\\n0  Harry Potter and the Deathly Hallows: Part 1      33.533   2010-11-19   \n1                      How to Train Your Dragon      28.734   2010-03-26   \n2                                    Iron Man 2      28.515   2010-05-07   \n3                                     Toy Story      28.005   1995-11-22   \n4                                     Inception      27.920   2010-07-16   \n\n                                          title  vote_average  vote_count  \n0  Harry Potter and the Deathly Hallows: Part 1           7.7       10788  \n1                      How to Train Your Dragon           7.7        7610  \n2                                    Iron Man 2           6.8       12368  \n3                                     Toy Story           7.9       10174  \n4                                     Inception           8.3       22186  ",
      "text/html": "<div>\n<style scoped>\n    .dataframe tbody tr th:only-of-type {\n        vertical-align: middle;\n    }\n\n    .dataframe tbody tr th {\n        vertical-align: top;\n    }\n\n    .dataframe thead th {\n        text-align: right;\n    }\n</style>\n<table border=\"1\" class=\"dataframe\">\n  <thead>\n    <tr style=\"text-align: right;\">\n      <th></th>\n      <th>Unnamed: 0</th>\n      <th>genre_ids</th>\n      <th>id</th>\n      <th>original_language</th>\n      <th>original_title</th>\n      <th>popularity</th>\n      <th>release_date</th>\n      <th>title</th>\n      <th>vote_average</th>\n      <th>vote_count</th>\n    </tr>\n  </thead>\n  <tbody>\n    <tr>\n      <th>0</th>\n      <td>0</td>\n      <td>[12, 14, 10751]</td>\n      <td>12444</td>\n      <td>en</td>\n      <td>Harry Potter and the Deathly Hallows: Part 1</td>\n      <td>33.533</td>\n      <td>2010-11-19</td>\n      <td>Harry Potter and the Deathly Hallows: Part 1</td>\n      <td>7.7</td>\n      <td>10788</td>\n    </tr>\n    <tr>\n      <th>1</th>\n      <td>1</td>\n      <td>[14, 12, 16, 10751]</td>\n      <td>10191</td>\n      <td>en</td>\n      <td>How to Train Your Dragon</td>\n      <td>28.734</td>\n      <td>2010-03-26</td>\n      <td>How to Train Your Dragon</td>\n      <td>7.7</td>\n      <td>7610</td>\n    </tr>\n    <tr>\n      <th>2</th>\n      <td>2</td>\n      <td>[12, 28, 878]</td>\n      <td>10138</td>\n      <td>en</td>\n      <td>Iron Man 2</td>\n      <td>28.515</td>\n      <td>2010-05-07</td>\n      <td>Iron Man 2</td>\n      <td>6.8</td>\n      <td>12368</td>\n    </tr>\n    <tr>\n      <th>3</th>\n      <td>3</td>\n      <td>[16, 35, 10751]</td>\n      <td>862</td>\n      <td>en</td>\n      <td>Toy Story</td>\n      <td>28.005</td>\n      <td>1995-11-22</td>\n      <td>Toy Story</td>\n      <td>7.9</td>\n      <td>10174</td>\n    </tr>\n    <tr>\n      <th>4</th>\n      <td>4</td>\n      <td>[28, 878, 12]</td>\n      <td>27205</td>\n      <td>en</td>\n      <td>Inception</td>\n      <td>27.920</td>\n      <td>2010-07-16</td>\n      <td>Inception</td>\n      <td>8.3</td>\n      <td>22186</td>\n    </tr>\n  </tbody>\n</table>\n</div>"
     },
     "metadata": {}
    },
    {
     "output_type": "display_data",
     "data": {
      "text/plain": "(26517, 10)"
     },
     "metadata": {}
    },
    {
     "output_type": "display_data",
     "data": {
      "text/plain": "'zippedData\\\\tn.movie_budgets.csv.gz'"
     },
     "metadata": {}
    },
    {
     "output_type": "display_data",
     "data": {
      "text/plain": "   id  release_date                                        movie  \\\n0   1  Dec 18, 2009                                       Avatar   \n1   2  May 20, 2011  Pirates of the Caribbean: On Stranger Tides   \n2   3   Jun 7, 2019                                 Dark Phoenix   \n3   4   May 1, 2015                      Avengers: Age of Ultron   \n4   5  Dec 15, 2017            Star Wars Ep. VIII: The Last Jedi   \n\n  production_budget domestic_gross worldwide_gross  \n0      $425,000,000   $760,507,625  $2,776,345,279  \n1      $410,600,000   $241,063,875  $1,045,663,875  \n2      $350,000,000    $42,762,350    $149,762,350  \n3      $330,600,000   $459,005,868  $1,403,013,963  \n4      $317,000,000   $620,181,382  $1,316,721,747  ",
      "text/html": "<div>\n<style scoped>\n    .dataframe tbody tr th:only-of-type {\n        vertical-align: middle;\n    }\n\n    .dataframe tbody tr th {\n        vertical-align: top;\n    }\n\n    .dataframe thead th {\n        text-align: right;\n    }\n</style>\n<table border=\"1\" class=\"dataframe\">\n  <thead>\n    <tr style=\"text-align: right;\">\n      <th></th>\n      <th>id</th>\n      <th>release_date</th>\n      <th>movie</th>\n      <th>production_budget</th>\n      <th>domestic_gross</th>\n      <th>worldwide_gross</th>\n    </tr>\n  </thead>\n  <tbody>\n    <tr>\n      <th>0</th>\n      <td>1</td>\n      <td>Dec 18, 2009</td>\n      <td>Avatar</td>\n      <td>$425,000,000</td>\n      <td>$760,507,625</td>\n      <td>$2,776,345,279</td>\n    </tr>\n    <tr>\n      <th>1</th>\n      <td>2</td>\n      <td>May 20, 2011</td>\n      <td>Pirates of the Caribbean: On Stranger Tides</td>\n      <td>$410,600,000</td>\n      <td>$241,063,875</td>\n      <td>$1,045,663,875</td>\n    </tr>\n    <tr>\n      <th>2</th>\n      <td>3</td>\n      <td>Jun 7, 2019</td>\n      <td>Dark Phoenix</td>\n      <td>$350,000,000</td>\n      <td>$42,762,350</td>\n      <td>$149,762,350</td>\n    </tr>\n    <tr>\n      <th>3</th>\n      <td>4</td>\n      <td>May 1, 2015</td>\n      <td>Avengers: Age of Ultron</td>\n      <td>$330,600,000</td>\n      <td>$459,005,868</td>\n      <td>$1,403,013,963</td>\n    </tr>\n    <tr>\n      <th>4</th>\n      <td>5</td>\n      <td>Dec 15, 2017</td>\n      <td>Star Wars Ep. VIII: The Last Jedi</td>\n      <td>$317,000,000</td>\n      <td>$620,181,382</td>\n      <td>$1,316,721,747</td>\n    </tr>\n  </tbody>\n</table>\n</div>"
     },
     "metadata": {}
    },
    {
     "output_type": "display_data",
     "data": {
      "text/plain": "(5782, 6)"
     },
     "metadata": {}
    }
   ],
   "source": [
    "for path in glob.glob('zippedData/*.csv*'):\n",
    "    display(path)\n",
    "    sep = ',' if '.csv' in os.path.basename(path) else '\\t'\n",
    "    try:\n",
    "        df = pd.read_csv(path, sep=sep, encoding='utf-8')\n",
    "    except UnicodeDecodeError:\n",
    "        df = pd.read_csv(path, sep=sep, encoding='latin1')\n",
    "    display(df.head())\n",
    "    display(df.shape)"
   ]
  },
  {
   "cell_type": "code",
   "execution_count": 3,
   "metadata": {},
   "outputs": [
    {
     "output_type": "execute_result",
     "data": {
      "text/plain": [
       "120       NM\n",
       "227      NGE\n",
       "244       NM\n",
       "259      NFC\n",
       "281      NAV\n",
       "480       NM\n",
       "497      NGE\n",
       "502     NeoC\n",
       "508      NGE\n",
       "608      NGE\n",
       "648      NGE\n",
       "677     NYer\n",
       "713     NeoC\n",
       "847     NeoC\n",
       "936     NYer\n",
       "985      NGE\n",
       "1060    NYer\n",
       "1296     NGE\n",
       "2857    Neon\n",
       "2946    Neon\n",
       "3210     NGE\n",
       "3312    Neon\n",
       "3340    Neon\n",
       "Name: studio, dtype: object"
      ]
     },
     "metadata": {},
     "execution_count": 3
    }
   ],
   "source": [
    "df1 = pd.read_csv(os.path.join('zippedData', 'bom.movie_gross.csv.gz'))\n",
    "df1.studio.dropna()[df1.studio.dropna().str.startswith('N')]"
   ]
  },
  {
   "cell_type": "code",
   "execution_count": null,
   "metadata": {},
   "outputs": [],
   "source": []
  }
 ],
 "metadata": {
  "kernelspec": {
   "display_name": "learn-env",
   "language": "python",
   "name": "learn-env"
  },
  "language_info": {
   "codemirror_mode": {
    "name": "ipython",
    "version": 3
   },
   "file_extension": ".py",
   "mimetype": "text/x-python",
   "name": "python",
   "nbconvert_exporter": "python",
   "pygments_lexer": "ipython3",
   "version": "3.8.5-final"
  }
 },
 "nbformat": 4,
 "nbformat_minor": 2
}
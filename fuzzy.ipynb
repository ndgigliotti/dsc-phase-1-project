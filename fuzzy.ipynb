{
 "metadata": {
  "language_info": {
   "codemirror_mode": {
    "name": "ipython",
    "version": 3
   },
   "file_extension": ".py",
   "mimetype": "text/x-python",
   "name": "python",
   "nbconvert_exporter": "python",
   "pygments_lexer": "ipython3",
   "version": "3.8.5-final"
  },
  "orig_nbformat": 2,
  "kernelspec": {
   "name": "python3",
   "display_name": "Python 3.8.5 64-bit ('learn-env': conda)",
   "metadata": {
    "interpreter": {
     "hash": "45e948d0256f8c78ae85303b642a175be3add64c95f2eaa9e19fcfd099775c4c"
    }
   }
  }
 },
 "nbformat": 4,
 "nbformat_minor": 2,
 "cells": [
  {
   "cell_type": "code",
   "execution_count": 1,
   "metadata": {},
   "outputs": [],
   "source": [
    "import os\n",
    "import pandas as pd \n",
    "import numpy as np \n",
    "import Levenshtein\n",
    "import utils"
   ]
  },
  {
   "cell_type": "code",
   "execution_count": 2,
   "metadata": {},
   "outputs": [
    {
     "output_type": "execute_result",
     "data": {
      "text/plain": [
       "      id release_date                                        movie  \\\n",
       "0      1   2009-12-18                                       Avatar   \n",
       "1      2   2011-05-20  Pirates of the Caribbean: On Stranger Tides   \n",
       "2      3   2019-06-07                                 Dark Phoenix   \n",
       "3      4   2015-05-01                      Avengers: Age of Ultron   \n",
       "4      5   2017-12-15            Star Wars Ep. VIII: The Last Jedi   \n",
       "...   ..          ...                                          ...   \n",
       "5777  78   2018-12-31                                       Red 11   \n",
       "5778  79   1999-04-02                                    Following   \n",
       "5779  80   2005-07-13                Return to the Land of Wonders   \n",
       "5780  81   2015-09-29                         A Plague So Pleasant   \n",
       "5781  82   2005-08-05                            My Date With Drew   \n",
       "\n",
       "     production_budget domestic_gross worldwide_gross  \n",
       "0         $425,000,000   $760,507,625  $2,776,345,279  \n",
       "1         $410,600,000   $241,063,875  $1,045,663,875  \n",
       "2         $350,000,000    $42,762,350    $149,762,350  \n",
       "3         $330,600,000   $459,005,868  $1,403,013,963  \n",
       "4         $317,000,000   $620,181,382  $1,316,721,747  \n",
       "...                ...            ...             ...  \n",
       "5777            $7,000             $0              $0  \n",
       "5778            $6,000        $48,482        $240,495  \n",
       "5779            $5,000         $1,338          $1,338  \n",
       "5780            $1,400             $0              $0  \n",
       "5781            $1,100       $181,041        $181,041  \n",
       "\n",
       "[5782 rows x 6 columns]"
      ],
      "text/html": "<div>\n<style scoped>\n    .dataframe tbody tr th:only-of-type {\n        vertical-align: middle;\n    }\n\n    .dataframe tbody tr th {\n        vertical-align: top;\n    }\n\n    .dataframe thead th {\n        text-align: right;\n    }\n</style>\n<table border=\"1\" class=\"dataframe\">\n  <thead>\n    <tr style=\"text-align: right;\">\n      <th></th>\n      <th>id</th>\n      <th>release_date</th>\n      <th>movie</th>\n      <th>production_budget</th>\n      <th>domestic_gross</th>\n      <th>worldwide_gross</th>\n    </tr>\n  </thead>\n  <tbody>\n    <tr>\n      <th>0</th>\n      <td>1</td>\n      <td>2009-12-18</td>\n      <td>Avatar</td>\n      <td>$425,000,000</td>\n      <td>$760,507,625</td>\n      <td>$2,776,345,279</td>\n    </tr>\n    <tr>\n      <th>1</th>\n      <td>2</td>\n      <td>2011-05-20</td>\n      <td>Pirates of the Caribbean: On Stranger Tides</td>\n      <td>$410,600,000</td>\n      <td>$241,063,875</td>\n      <td>$1,045,663,875</td>\n    </tr>\n    <tr>\n      <th>2</th>\n      <td>3</td>\n      <td>2019-06-07</td>\n      <td>Dark Phoenix</td>\n      <td>$350,000,000</td>\n      <td>$42,762,350</td>\n      <td>$149,762,350</td>\n    </tr>\n    <tr>\n      <th>3</th>\n      <td>4</td>\n      <td>2015-05-01</td>\n      <td>Avengers: Age of Ultron</td>\n      <td>$330,600,000</td>\n      <td>$459,005,868</td>\n      <td>$1,403,013,963</td>\n    </tr>\n    <tr>\n      <th>4</th>\n      <td>5</td>\n      <td>2017-12-15</td>\n      <td>Star Wars Ep. VIII: The Last Jedi</td>\n      <td>$317,000,000</td>\n      <td>$620,181,382</td>\n      <td>$1,316,721,747</td>\n    </tr>\n    <tr>\n      <th>...</th>\n      <td>...</td>\n      <td>...</td>\n      <td>...</td>\n      <td>...</td>\n      <td>...</td>\n      <td>...</td>\n    </tr>\n    <tr>\n      <th>5777</th>\n      <td>78</td>\n      <td>2018-12-31</td>\n      <td>Red 11</td>\n      <td>$7,000</td>\n      <td>$0</td>\n      <td>$0</td>\n    </tr>\n    <tr>\n      <th>5778</th>\n      <td>79</td>\n      <td>1999-04-02</td>\n      <td>Following</td>\n      <td>$6,000</td>\n      <td>$48,482</td>\n      <td>$240,495</td>\n    </tr>\n    <tr>\n      <th>5779</th>\n      <td>80</td>\n      <td>2005-07-13</td>\n      <td>Return to the Land of Wonders</td>\n      <td>$5,000</td>\n      <td>$1,338</td>\n      <td>$1,338</td>\n    </tr>\n    <tr>\n      <th>5780</th>\n      <td>81</td>\n      <td>2015-09-29</td>\n      <td>A Plague So Pleasant</td>\n      <td>$1,400</td>\n      <td>$0</td>\n      <td>$0</td>\n    </tr>\n    <tr>\n      <th>5781</th>\n      <td>82</td>\n      <td>2005-08-05</td>\n      <td>My Date With Drew</td>\n      <td>$1,100</td>\n      <td>$181,041</td>\n      <td>$181,041</td>\n    </tr>\n  </tbody>\n</table>\n<p>5782 rows × 6 columns</p>\n</div>"
     },
     "metadata": {},
     "execution_count": 2
    }
   ],
   "source": [
    "df1 = pd.read_csv(os.path.join('zippedData', 'tn.movie_budgets.csv.gz'))\n",
    "df1['release_date'] = pd.to_datetime(df1['release_date'])\n",
    "# df1['release_year'] = df1['release_date'].dt.year\n",
    "df1"
   ]
  },
  {
   "cell_type": "code",
   "execution_count": 3,
   "metadata": {},
   "outputs": [
    {
     "output_type": "execute_result",
     "data": {
      "text/plain": [
       "                                            title      studio  domestic_gross  \\\n",
       "0                                     Toy Story 3          BV     415000000.0   \n",
       "1                      Alice in Wonderland (2010)          BV     334200000.0   \n",
       "2     Harry Potter and the Deathly Hallows Part 1          WB     296000000.0   \n",
       "3                                       Inception          WB     292600000.0   \n",
       "4                             Shrek Forever After        P/DW     238700000.0   \n",
       "...                                           ...         ...             ...   \n",
       "3382                                    The Quake       Magn.          6200.0   \n",
       "3383                  Edward II (2018 re-release)          FM          4800.0   \n",
       "3384                                     El Pacto        Sony          2500.0   \n",
       "3385                                     The Swan  Synergetic          2400.0   \n",
       "3386                            An Actor Prepares       Grav.          1700.0   \n",
       "\n",
       "     foreign_gross  year  \n",
       "0        652000000  2010  \n",
       "1        691300000  2010  \n",
       "2        664300000  2010  \n",
       "3        535700000  2010  \n",
       "4        513900000  2010  \n",
       "...            ...   ...  \n",
       "3382           NaN  2018  \n",
       "3383           NaN  2018  \n",
       "3384           NaN  2018  \n",
       "3385           NaN  2018  \n",
       "3386           NaN  2018  \n",
       "\n",
       "[3387 rows x 5 columns]"
      ],
      "text/html": "<div>\n<style scoped>\n    .dataframe tbody tr th:only-of-type {\n        vertical-align: middle;\n    }\n\n    .dataframe tbody tr th {\n        vertical-align: top;\n    }\n\n    .dataframe thead th {\n        text-align: right;\n    }\n</style>\n<table border=\"1\" class=\"dataframe\">\n  <thead>\n    <tr style=\"text-align: right;\">\n      <th></th>\n      <th>title</th>\n      <th>studio</th>\n      <th>domestic_gross</th>\n      <th>foreign_gross</th>\n      <th>year</th>\n    </tr>\n  </thead>\n  <tbody>\n    <tr>\n      <th>0</th>\n      <td>Toy Story 3</td>\n      <td>BV</td>\n      <td>415000000.0</td>\n      <td>652000000</td>\n      <td>2010</td>\n    </tr>\n    <tr>\n      <th>1</th>\n      <td>Alice in Wonderland (2010)</td>\n      <td>BV</td>\n      <td>334200000.0</td>\n      <td>691300000</td>\n      <td>2010</td>\n    </tr>\n    <tr>\n      <th>2</th>\n      <td>Harry Potter and the Deathly Hallows Part 1</td>\n      <td>WB</td>\n      <td>296000000.0</td>\n      <td>664300000</td>\n      <td>2010</td>\n    </tr>\n    <tr>\n      <th>3</th>\n      <td>Inception</td>\n      <td>WB</td>\n      <td>292600000.0</td>\n      <td>535700000</td>\n      <td>2010</td>\n    </tr>\n    <tr>\n      <th>4</th>\n      <td>Shrek Forever After</td>\n      <td>P/DW</td>\n      <td>238700000.0</td>\n      <td>513900000</td>\n      <td>2010</td>\n    </tr>\n    <tr>\n      <th>...</th>\n      <td>...</td>\n      <td>...</td>\n      <td>...</td>\n      <td>...</td>\n      <td>...</td>\n    </tr>\n    <tr>\n      <th>3382</th>\n      <td>The Quake</td>\n      <td>Magn.</td>\n      <td>6200.0</td>\n      <td>NaN</td>\n      <td>2018</td>\n    </tr>\n    <tr>\n      <th>3383</th>\n      <td>Edward II (2018 re-release)</td>\n      <td>FM</td>\n      <td>4800.0</td>\n      <td>NaN</td>\n      <td>2018</td>\n    </tr>\n    <tr>\n      <th>3384</th>\n      <td>El Pacto</td>\n      <td>Sony</td>\n      <td>2500.0</td>\n      <td>NaN</td>\n      <td>2018</td>\n    </tr>\n    <tr>\n      <th>3385</th>\n      <td>The Swan</td>\n      <td>Synergetic</td>\n      <td>2400.0</td>\n      <td>NaN</td>\n      <td>2018</td>\n    </tr>\n    <tr>\n      <th>3386</th>\n      <td>An Actor Prepares</td>\n      <td>Grav.</td>\n      <td>1700.0</td>\n      <td>NaN</td>\n      <td>2018</td>\n    </tr>\n  </tbody>\n</table>\n<p>3387 rows × 5 columns</p>\n</div>"
     },
     "metadata": {},
     "execution_count": 3
    }
   ],
   "source": [
    "df2 = pd.read_csv(os.path.join('zippedData', 'bom.movie_gross.csv.gz'))\n",
    "df2"
   ]
  },
  {
   "cell_type": "code",
   "execution_count": 5,
   "metadata": {},
   "outputs": [],
   "source": [
    "df1_titles = utils.process_strings(df1.movie).values\n",
    "df2_titles = utils.process_strings(df2.title).values"
   ]
  },
  {
   "cell_type": "code",
   "execution_count": 6,
   "metadata": {},
   "outputs": [
    {
     "output_type": "execute_result",
     "data": {
      "text/plain": [
       "                                            avatar  \\\n",
       "toy story 3                                    NaN   \n",
       "alice in wonderland 2010                       NaN   \n",
       "harry potter and the deathly hallows part 1    NaN   \n",
       "inception                                      NaN   \n",
       "shrek forever after                            NaN   \n",
       "\n",
       "                                            pirates of the caribbean on stranger tides  \\\n",
       "toy story 3                                                                        NaN   \n",
       "alice in wonderland 2010                                                           NaN   \n",
       "harry potter and the deathly hallows part 1                                        NaN   \n",
       "inception                                                                          NaN   \n",
       "shrek forever after                                                                NaN   \n",
       "\n",
       "                                            dark phoenix  \\\n",
       "toy story 3                                          NaN   \n",
       "alice in wonderland 2010                             NaN   \n",
       "harry potter and the deathly hallows part 1          NaN   \n",
       "inception                                            NaN   \n",
       "shrek forever after                                  NaN   \n",
       "\n",
       "                                            avengers age of ultron  \\\n",
       "toy story 3                                                    NaN   \n",
       "alice in wonderland 2010                                       NaN   \n",
       "harry potter and the deathly hallows part 1                    NaN   \n",
       "inception                                                      NaN   \n",
       "shrek forever after                                            NaN   \n",
       "\n",
       "                                            star wars ep viii the last jedi  \\\n",
       "toy story 3                                                             NaN   \n",
       "alice in wonderland 2010                                                NaN   \n",
       "harry potter and the deathly hallows part 1                             NaN   \n",
       "inception                                                               NaN   \n",
       "shrek forever after                                                     NaN   \n",
       "\n",
       "                                            star wars ep vii the force awakens  \\\n",
       "toy story 3                                                                NaN   \n",
       "alice in wonderland 2010                                                   NaN   \n",
       "harry potter and the deathly hallows part 1                                NaN   \n",
       "inception                                                                  NaN   \n",
       "shrek forever after                                                        NaN   \n",
       "\n",
       "                                            avengers infinity war  \\\n",
       "toy story 3                                                   NaN   \n",
       "alice in wonderland 2010                                      NaN   \n",
       "harry potter and the deathly hallows part 1                   NaN   \n",
       "inception                                                     NaN   \n",
       "shrek forever after                                           NaN   \n",
       "\n",
       "                                            pirates of the caribbean at worldas end  \\\n",
       "toy story 3                                                                     NaN   \n",
       "alice in wonderland 2010                                                        NaN   \n",
       "harry potter and the deathly hallows part 1                                     NaN   \n",
       "inception                                                                       NaN   \n",
       "shrek forever after                                                             NaN   \n",
       "\n",
       "                                            justice league spectre  ...  \\\n",
       "toy story 3                                            NaN     NaN  ...   \n",
       "alice in wonderland 2010                               NaN     NaN  ...   \n",
       "harry potter and the deathly hallows part 1            NaN     NaN  ...   \n",
       "inception                                              NaN     NaN  ...   \n",
       "shrek forever after                                    NaN     NaN  ...   \n",
       "\n",
       "                                            newlyweds el mariachi primer  \\\n",
       "toy story 3                                       NaN         NaN    NaN   \n",
       "alice in wonderland 2010                          NaN         NaN    NaN   \n",
       "harry potter and the deathly hallows part 1       NaN         NaN    NaN   \n",
       "inception                                         NaN         NaN    NaN   \n",
       "shrek forever after                               NaN         NaN    NaN   \n",
       "\n",
       "                                            cavite the mongol king red 11  \\\n",
       "toy story 3                                    NaN             NaN    NaN   \n",
       "alice in wonderland 2010                       NaN             NaN    NaN   \n",
       "harry potter and the deathly hallows part 1    NaN             NaN    NaN   \n",
       "inception                                      NaN             NaN    NaN   \n",
       "shrek forever after                            NaN             NaN    NaN   \n",
       "\n",
       "                                            following  \\\n",
       "toy story 3                                       NaN   \n",
       "alice in wonderland 2010                          NaN   \n",
       "harry potter and the deathly hallows part 1       NaN   \n",
       "inception                                         NaN   \n",
       "shrek forever after                               NaN   \n",
       "\n",
       "                                            return to the land of wonders  \\\n",
       "toy story 3                                                           NaN   \n",
       "alice in wonderland 2010                                              NaN   \n",
       "harry potter and the deathly hallows part 1                           NaN   \n",
       "inception                                                             NaN   \n",
       "shrek forever after                                                   NaN   \n",
       "\n",
       "                                            a plague so pleasant  \\\n",
       "toy story 3                                                  NaN   \n",
       "alice in wonderland 2010                                     NaN   \n",
       "harry potter and the deathly hallows part 1                  NaN   \n",
       "inception                                                    NaN   \n",
       "shrek forever after                                          NaN   \n",
       "\n",
       "                                            my date with drew  \n",
       "toy story 3                                               NaN  \n",
       "alice in wonderland 2010                                  NaN  \n",
       "harry potter and the deathly hallows part 1               NaN  \n",
       "inception                                                 NaN  \n",
       "shrek forever after                                       NaN  \n",
       "\n",
       "[5 rows x 5782 columns]"
      ],
      "text/html": "<div>\n<style scoped>\n    .dataframe tbody tr th:only-of-type {\n        vertical-align: middle;\n    }\n\n    .dataframe tbody tr th {\n        vertical-align: top;\n    }\n\n    .dataframe thead th {\n        text-align: right;\n    }\n</style>\n<table border=\"1\" class=\"dataframe\">\n  <thead>\n    <tr style=\"text-align: right;\">\n      <th></th>\n      <th>avatar</th>\n      <th>pirates of the caribbean on stranger tides</th>\n      <th>dark phoenix</th>\n      <th>avengers age of ultron</th>\n      <th>star wars ep viii the last jedi</th>\n      <th>star wars ep vii the force awakens</th>\n      <th>avengers infinity war</th>\n      <th>pirates of the caribbean at worldas end</th>\n      <th>justice league</th>\n      <th>spectre</th>\n      <th>...</th>\n      <th>newlyweds</th>\n      <th>el mariachi</th>\n      <th>primer</th>\n      <th>cavite</th>\n      <th>the mongol king</th>\n      <th>red 11</th>\n      <th>following</th>\n      <th>return to the land of wonders</th>\n      <th>a plague so pleasant</th>\n      <th>my date with drew</th>\n    </tr>\n  </thead>\n  <tbody>\n    <tr>\n      <th>toy story 3</th>\n      <td>NaN</td>\n      <td>NaN</td>\n      <td>NaN</td>\n      <td>NaN</td>\n      <td>NaN</td>\n      <td>NaN</td>\n      <td>NaN</td>\n      <td>NaN</td>\n      <td>NaN</td>\n      <td>NaN</td>\n      <td>...</td>\n      <td>NaN</td>\n      <td>NaN</td>\n      <td>NaN</td>\n      <td>NaN</td>\n      <td>NaN</td>\n      <td>NaN</td>\n      <td>NaN</td>\n      <td>NaN</td>\n      <td>NaN</td>\n      <td>NaN</td>\n    </tr>\n    <tr>\n      <th>alice in wonderland 2010</th>\n      <td>NaN</td>\n      <td>NaN</td>\n      <td>NaN</td>\n      <td>NaN</td>\n      <td>NaN</td>\n      <td>NaN</td>\n      <td>NaN</td>\n      <td>NaN</td>\n      <td>NaN</td>\n      <td>NaN</td>\n      <td>...</td>\n      <td>NaN</td>\n      <td>NaN</td>\n      <td>NaN</td>\n      <td>NaN</td>\n      <td>NaN</td>\n      <td>NaN</td>\n      <td>NaN</td>\n      <td>NaN</td>\n      <td>NaN</td>\n      <td>NaN</td>\n    </tr>\n    <tr>\n      <th>harry potter and the deathly hallows part 1</th>\n      <td>NaN</td>\n      <td>NaN</td>\n      <td>NaN</td>\n      <td>NaN</td>\n      <td>NaN</td>\n      <td>NaN</td>\n      <td>NaN</td>\n      <td>NaN</td>\n      <td>NaN</td>\n      <td>NaN</td>\n      <td>...</td>\n      <td>NaN</td>\n      <td>NaN</td>\n      <td>NaN</td>\n      <td>NaN</td>\n      <td>NaN</td>\n      <td>NaN</td>\n      <td>NaN</td>\n      <td>NaN</td>\n      <td>NaN</td>\n      <td>NaN</td>\n    </tr>\n    <tr>\n      <th>inception</th>\n      <td>NaN</td>\n      <td>NaN</td>\n      <td>NaN</td>\n      <td>NaN</td>\n      <td>NaN</td>\n      <td>NaN</td>\n      <td>NaN</td>\n      <td>NaN</td>\n      <td>NaN</td>\n      <td>NaN</td>\n      <td>...</td>\n      <td>NaN</td>\n      <td>NaN</td>\n      <td>NaN</td>\n      <td>NaN</td>\n      <td>NaN</td>\n      <td>NaN</td>\n      <td>NaN</td>\n      <td>NaN</td>\n      <td>NaN</td>\n      <td>NaN</td>\n    </tr>\n    <tr>\n      <th>shrek forever after</th>\n      <td>NaN</td>\n      <td>NaN</td>\n      <td>NaN</td>\n      <td>NaN</td>\n      <td>NaN</td>\n      <td>NaN</td>\n      <td>NaN</td>\n      <td>NaN</td>\n      <td>NaN</td>\n      <td>NaN</td>\n      <td>...</td>\n      <td>NaN</td>\n      <td>NaN</td>\n      <td>NaN</td>\n      <td>NaN</td>\n      <td>NaN</td>\n      <td>NaN</td>\n      <td>NaN</td>\n      <td>NaN</td>\n      <td>NaN</td>\n      <td>NaN</td>\n    </tr>\n  </tbody>\n</table>\n<p>5 rows × 5782 columns</p>\n</div>"
     },
     "metadata": {},
     "execution_count": 6
    }
   ],
   "source": [
    "# titles = np.tile(df2_titles, (df1_titles.size, 1)).T\n",
    "titles = pd.DataFrame(index=df2_titles, columns=df1_titles)\n",
    "titles.head()"
   ]
  },
  {
   "cell_type": "code",
   "execution_count": 21,
   "metadata": {},
   "outputs": [],
   "source": [
    "def similarity(data: pd.Series, base_str=None) -> pd.Series:\n",
    "    strings = data.index.to_series()\n",
    "    if base_str is None:\n",
    "        base_str = data.name\n",
    "    return strings.map(lambda x: Levenshtein.ratio(base_str, x))"
   ]
  },
  {
   "cell_type": "code",
   "execution_count": 23,
   "metadata": {},
   "outputs": [],
   "source": [
    "sim_df = titles.apply(similarity)"
   ]
  },
  {
   "cell_type": "code",
   "execution_count": 48,
   "metadata": {},
   "outputs": [
    {
     "output_type": "execute_result",
     "data": {
      "text/plain": [
       "(3387, 2)"
      ]
     },
     "metadata": {},
     "execution_count": 48
    }
   ],
   "source": [
    "match_df = sim_df.agg(['idxmax', 'max'], axis=1)\n",
    "match_df.shape"
   ]
  },
  {
   "cell_type": "code",
   "execution_count": 51,
   "metadata": {},
   "outputs": [
    {
     "output_type": "execute_result",
     "data": {
      "text/plain": [
       "                                                        idxmax  max\n",
       "bad santa 2                                          bad santa  0.9\n",
       "planes fire rescue                      planes fire and rescue  0.9\n",
       "13 minutes                                          15 minutes  0.9\n",
       "housefull 3                                          housefull  0.9\n",
       "back to the future day                      back to the future  0.9\n",
       "...                                                        ...  ...\n",
       "silent hill revelation 3d            silent hill revelation 3d    1\n",
       "lawless                                                lawless    1\n",
       "the fiveyear engagement                the fiveyear engagement    1\n",
       "the guilt trip                                  the guilt trip    1\n",
       "transformers age of extinction  transformers age of extinction    1\n",
       "\n",
       "[1390 rows x 2 columns]"
      ],
      "text/html": "<div>\n<style scoped>\n    .dataframe tbody tr th:only-of-type {\n        vertical-align: middle;\n    }\n\n    .dataframe tbody tr th {\n        vertical-align: top;\n    }\n\n    .dataframe thead th {\n        text-align: right;\n    }\n</style>\n<table border=\"1\" class=\"dataframe\">\n  <thead>\n    <tr style=\"text-align: right;\">\n      <th></th>\n      <th>idxmax</th>\n      <th>max</th>\n    </tr>\n  </thead>\n  <tbody>\n    <tr>\n      <th>bad santa 2</th>\n      <td>bad santa</td>\n      <td>0.9</td>\n    </tr>\n    <tr>\n      <th>planes fire rescue</th>\n      <td>planes fire and rescue</td>\n      <td>0.9</td>\n    </tr>\n    <tr>\n      <th>13 minutes</th>\n      <td>15 minutes</td>\n      <td>0.9</td>\n    </tr>\n    <tr>\n      <th>housefull 3</th>\n      <td>housefull</td>\n      <td>0.9</td>\n    </tr>\n    <tr>\n      <th>back to the future day</th>\n      <td>back to the future</td>\n      <td>0.9</td>\n    </tr>\n    <tr>\n      <th>...</th>\n      <td>...</td>\n      <td>...</td>\n    </tr>\n    <tr>\n      <th>silent hill revelation 3d</th>\n      <td>silent hill revelation 3d</td>\n      <td>1</td>\n    </tr>\n    <tr>\n      <th>lawless</th>\n      <td>lawless</td>\n      <td>1</td>\n    </tr>\n    <tr>\n      <th>the fiveyear engagement</th>\n      <td>the fiveyear engagement</td>\n      <td>1</td>\n    </tr>\n    <tr>\n      <th>the guilt trip</th>\n      <td>the guilt trip</td>\n      <td>1</td>\n    </tr>\n    <tr>\n      <th>transformers age of extinction</th>\n      <td>transformers age of extinction</td>\n      <td>1</td>\n    </tr>\n  </tbody>\n</table>\n<p>1390 rows × 2 columns</p>\n</div>"
     },
     "metadata": {},
     "execution_count": 51
    }
   ],
   "source": [
    "match_df[match_df['max'] >= 0.9].sort_values('max')"
   ]
  },
  {
   "cell_type": "code",
   "execution_count": null,
   "metadata": {},
   "outputs": [],
   "source": []
  }
 ]
}
{
 "metadata": {
  "language_info": {
   "codemirror_mode": {
    "name": "ipython",
    "version": 3
   },
   "file_extension": ".py",
   "mimetype": "text/x-python",
   "name": "python",
   "nbconvert_exporter": "python",
   "pygments_lexer": "ipython3",
   "version": "3.8.5-final"
  },
  "orig_nbformat": 2,
  "kernelspec": {
   "name": "python3",
   "display_name": "Python 3.8.5 64-bit ('learn-env': conda)",
   "metadata": {
    "interpreter": {
     "hash": "45e948d0256f8c78ae85303b642a175be3add64c95f2eaa9e19fcfd099775c4c"
    }
   }
  }
 },
 "nbformat": 4,
 "nbformat_minor": 2,
 "cells": [
  {
   "cell_type": "code",
   "execution_count": 2,
   "metadata": {},
   "outputs": [],
   "source": [
    "import os\n",
    "import re\n",
    "import json\n",
    "import glob\n",
    "import pandas as pd\n",
    "import numpy as np\n",
    "import utils\n",
    "import cleaning\n",
    "import analysis"
   ]
  },
  {
   "cell_type": "code",
   "execution_count": 3,
   "metadata": {},
   "outputs": [
    {
     "output_type": "execute_result",
     "data": {
      "text/plain": [
       "            tconst  ordering      nconst category\n",
       "0        tt0111414         1   nm0246005    actor\n",
       "5        tt0323808         2   nm2694680    actor\n",
       "6        tt0323808         3   nm0574615    actor\n",
       "14       tt0417610         1   nm0532721    actor\n",
       "16       tt0417610         3   nm0069209    actor\n",
       "...            ...       ...         ...      ...\n",
       "1028175  tt9681728         9  nm10397910    actor\n",
       "1028176  tt9689618         1  nm10439726    actor\n",
       "1028177  tt9689618         2  nm10439727    actor\n",
       "1028178  tt9689618         3  nm10439724    actor\n",
       "1028181  tt9692684         1   nm0186469    actor\n",
       "\n",
       "[256718 rows x 4 columns]"
      ],
      "text/html": "<div>\n<style scoped>\n    .dataframe tbody tr th:only-of-type {\n        vertical-align: middle;\n    }\n\n    .dataframe tbody tr th {\n        vertical-align: top;\n    }\n\n    .dataframe thead th {\n        text-align: right;\n    }\n</style>\n<table border=\"1\" class=\"dataframe\">\n  <thead>\n    <tr style=\"text-align: right;\">\n      <th></th>\n      <th>tconst</th>\n      <th>ordering</th>\n      <th>nconst</th>\n      <th>category</th>\n    </tr>\n  </thead>\n  <tbody>\n    <tr>\n      <th>0</th>\n      <td>tt0111414</td>\n      <td>1</td>\n      <td>nm0246005</td>\n      <td>actor</td>\n    </tr>\n    <tr>\n      <th>5</th>\n      <td>tt0323808</td>\n      <td>2</td>\n      <td>nm2694680</td>\n      <td>actor</td>\n    </tr>\n    <tr>\n      <th>6</th>\n      <td>tt0323808</td>\n      <td>3</td>\n      <td>nm0574615</td>\n      <td>actor</td>\n    </tr>\n    <tr>\n      <th>14</th>\n      <td>tt0417610</td>\n      <td>1</td>\n      <td>nm0532721</td>\n      <td>actor</td>\n    </tr>\n    <tr>\n      <th>16</th>\n      <td>tt0417610</td>\n      <td>3</td>\n      <td>nm0069209</td>\n      <td>actor</td>\n    </tr>\n    <tr>\n      <th>...</th>\n      <td>...</td>\n      <td>...</td>\n      <td>...</td>\n      <td>...</td>\n    </tr>\n    <tr>\n      <th>1028175</th>\n      <td>tt9681728</td>\n      <td>9</td>\n      <td>nm10397910</td>\n      <td>actor</td>\n    </tr>\n    <tr>\n      <th>1028176</th>\n      <td>tt9689618</td>\n      <td>1</td>\n      <td>nm10439726</td>\n      <td>actor</td>\n    </tr>\n    <tr>\n      <th>1028177</th>\n      <td>tt9689618</td>\n      <td>2</td>\n      <td>nm10439727</td>\n      <td>actor</td>\n    </tr>\n    <tr>\n      <th>1028178</th>\n      <td>tt9689618</td>\n      <td>3</td>\n      <td>nm10439724</td>\n      <td>actor</td>\n    </tr>\n    <tr>\n      <th>1028181</th>\n      <td>tt9692684</td>\n      <td>1</td>\n      <td>nm0186469</td>\n      <td>actor</td>\n    </tr>\n  </tbody>\n</table>\n<p>256718 rows × 4 columns</p>\n</div>"
     },
     "metadata": {},
     "execution_count": 3
    }
   ],
   "source": [
    "act_df = pd.read_json(os.path.join('cleanData', 'imdb.title.principals.json.gz'))\n",
    "act_df = act_df.query('category == \"actor\"')\n",
    "act_df"
   ]
  },
  {
   "cell_type": "code",
   "execution_count": 4,
   "metadata": {},
   "outputs": [
    {
     "output_type": "execute_result",
     "data": {
      "text/plain": [
       "           nconst         primary_name\n",
       "0       nm0061671    Mary Ellen Bauder\n",
       "1       nm0061865         Joseph Bauer\n",
       "2       nm0062070           Bruce Baum\n",
       "3       nm0062195         Axel Baumann\n",
       "4       nm0062798          Pete Baxter\n",
       "...           ...                  ...\n",
       "606643  nm9990381         Susan Grobes\n",
       "606644  nm9990690          Joo Yeon So\n",
       "606645  nm9991320       Madeline Smith\n",
       "606646  nm9991786  Michelle Modigliani\n",
       "606647  nm9993380       Pegasus Envoyé\n",
       "\n",
       "[606648 rows x 2 columns]"
      ],
      "text/html": "<div>\n<style scoped>\n    .dataframe tbody tr th:only-of-type {\n        vertical-align: middle;\n    }\n\n    .dataframe tbody tr th {\n        vertical-align: top;\n    }\n\n    .dataframe thead th {\n        text-align: right;\n    }\n</style>\n<table border=\"1\" class=\"dataframe\">\n  <thead>\n    <tr style=\"text-align: right;\">\n      <th></th>\n      <th>nconst</th>\n      <th>primary_name</th>\n    </tr>\n  </thead>\n  <tbody>\n    <tr>\n      <th>0</th>\n      <td>nm0061671</td>\n      <td>Mary Ellen Bauder</td>\n    </tr>\n    <tr>\n      <th>1</th>\n      <td>nm0061865</td>\n      <td>Joseph Bauer</td>\n    </tr>\n    <tr>\n      <th>2</th>\n      <td>nm0062070</td>\n      <td>Bruce Baum</td>\n    </tr>\n    <tr>\n      <th>3</th>\n      <td>nm0062195</td>\n      <td>Axel Baumann</td>\n    </tr>\n    <tr>\n      <th>4</th>\n      <td>nm0062798</td>\n      <td>Pete Baxter</td>\n    </tr>\n    <tr>\n      <th>...</th>\n      <td>...</td>\n      <td>...</td>\n    </tr>\n    <tr>\n      <th>606643</th>\n      <td>nm9990381</td>\n      <td>Susan Grobes</td>\n    </tr>\n    <tr>\n      <th>606644</th>\n      <td>nm9990690</td>\n      <td>Joo Yeon So</td>\n    </tr>\n    <tr>\n      <th>606645</th>\n      <td>nm9991320</td>\n      <td>Madeline Smith</td>\n    </tr>\n    <tr>\n      <th>606646</th>\n      <td>nm9991786</td>\n      <td>Michelle Modigliani</td>\n    </tr>\n    <tr>\n      <th>606647</th>\n      <td>nm9993380</td>\n      <td>Pegasus Envoyé</td>\n    </tr>\n  </tbody>\n</table>\n<p>606648 rows × 2 columns</p>\n</div>"
     },
     "metadata": {},
     "execution_count": 4
    }
   ],
   "source": [
    "name_df = pd.read_csv(os.path.join('zippedData', 'imdb.name.basics.csv.gz'))\n",
    "name_df = name_df.loc[:, ['nconst', 'primary_name']]\n",
    "name_df"
   ]
  },
  {
   "cell_type": "code",
   "execution_count": 5,
   "metadata": {},
   "outputs": [
    {
     "output_type": "execute_result",
     "data": {
      "text/plain": [
       "           tconst  ordering      nconst category        primary_name\n",
       "0       tt0111414         1   nm0246005    actor        Tommy Dysart\n",
       "1       tt0323808         2   nm2694680    actor       Henry Garrett\n",
       "2       tt0323808         3   nm0574615    actor     Graham McTavish\n",
       "3       tt0417610         1   nm0532721    actor         Luis Machín\n",
       "4       tt0417610         3   nm0069209    actor      Carlos Belloso\n",
       "...           ...       ...         ...      ...                 ...\n",
       "256713  tt9681728         9  nm10397910    actor        Danil Tyabin\n",
       "256714  tt9689618         1  nm10439726    actor   Christian Lacroix\n",
       "256715  tt9689618         2  nm10439727    actor  Christine Spengler\n",
       "256716  tt9689618         3  nm10439724    actor    Phillippe Warner\n",
       "256717  tt9692684         1   nm0186469    actor     Kenneth Cranham\n",
       "\n",
       "[256718 rows x 5 columns]"
      ],
      "text/html": "<div>\n<style scoped>\n    .dataframe tbody tr th:only-of-type {\n        vertical-align: middle;\n    }\n\n    .dataframe tbody tr th {\n        vertical-align: top;\n    }\n\n    .dataframe thead th {\n        text-align: right;\n    }\n</style>\n<table border=\"1\" class=\"dataframe\">\n  <thead>\n    <tr style=\"text-align: right;\">\n      <th></th>\n      <th>tconst</th>\n      <th>ordering</th>\n      <th>nconst</th>\n      <th>category</th>\n      <th>primary_name</th>\n    </tr>\n  </thead>\n  <tbody>\n    <tr>\n      <th>0</th>\n      <td>tt0111414</td>\n      <td>1</td>\n      <td>nm0246005</td>\n      <td>actor</td>\n      <td>Tommy Dysart</td>\n    </tr>\n    <tr>\n      <th>1</th>\n      <td>tt0323808</td>\n      <td>2</td>\n      <td>nm2694680</td>\n      <td>actor</td>\n      <td>Henry Garrett</td>\n    </tr>\n    <tr>\n      <th>2</th>\n      <td>tt0323808</td>\n      <td>3</td>\n      <td>nm0574615</td>\n      <td>actor</td>\n      <td>Graham McTavish</td>\n    </tr>\n    <tr>\n      <th>3</th>\n      <td>tt0417610</td>\n      <td>1</td>\n      <td>nm0532721</td>\n      <td>actor</td>\n      <td>Luis Machín</td>\n    </tr>\n    <tr>\n      <th>4</th>\n      <td>tt0417610</td>\n      <td>3</td>\n      <td>nm0069209</td>\n      <td>actor</td>\n      <td>Carlos Belloso</td>\n    </tr>\n    <tr>\n      <th>...</th>\n      <td>...</td>\n      <td>...</td>\n      <td>...</td>\n      <td>...</td>\n      <td>...</td>\n    </tr>\n    <tr>\n      <th>256713</th>\n      <td>tt9681728</td>\n      <td>9</td>\n      <td>nm10397910</td>\n      <td>actor</td>\n      <td>Danil Tyabin</td>\n    </tr>\n    <tr>\n      <th>256714</th>\n      <td>tt9689618</td>\n      <td>1</td>\n      <td>nm10439726</td>\n      <td>actor</td>\n      <td>Christian Lacroix</td>\n    </tr>\n    <tr>\n      <th>256715</th>\n      <td>tt9689618</td>\n      <td>2</td>\n      <td>nm10439727</td>\n      <td>actor</td>\n      <td>Christine Spengler</td>\n    </tr>\n    <tr>\n      <th>256716</th>\n      <td>tt9689618</td>\n      <td>3</td>\n      <td>nm10439724</td>\n      <td>actor</td>\n      <td>Phillippe Warner</td>\n    </tr>\n    <tr>\n      <th>256717</th>\n      <td>tt9692684</td>\n      <td>1</td>\n      <td>nm0186469</td>\n      <td>actor</td>\n      <td>Kenneth Cranham</td>\n    </tr>\n  </tbody>\n</table>\n<p>256718 rows × 5 columns</p>\n</div>"
     },
     "metadata": {},
     "execution_count": 5
    }
   ],
   "source": [
    "act_df = act_df.merge(name_df, how='left', on=['nconst'])\n",
    "act_df"
   ]
  },
  {
   "cell_type": "code",
   "execution_count": 6,
   "metadata": {},
   "outputs": [
    {
     "output_type": "execute_result",
     "data": {
      "text/plain": [
       "         tconst                            title  release_year  \\\n",
       "0     tt0359950  The Secret Life of Walter Mitty          2013   \n",
       "1     tt0365907      A Walk Among the Tombstones          2014   \n",
       "2     tt0369610                   Jurassic World          2015   \n",
       "3     tt0376136                    The Rum Diary          2011   \n",
       "4     tt0383010                The Three Stooges          2012   \n",
       "...         ...                              ...           ...   \n",
       "1417  tt7958736                               Ma          2019   \n",
       "1418  tt7959026                         The Mule          2018   \n",
       "1419  tt8155288               Happy Death Day 2U          2019   \n",
       "1420  tt8632862                  Fahrenheit 11/9          2018   \n",
       "1421  tt9024106                        Unplanned          2019   \n",
       "\n",
       "      runtime_minutes                       genres release_date  \\\n",
       "0               114.0   [Adventure, Comedy, Drama]   2013-12-25   \n",
       "1               114.0       [Action, Crime, Drama]   2014-09-19   \n",
       "2               124.0  [Action, Adventure, Sci-Fi]   2015-06-12   \n",
       "3               119.0              [Comedy, Drama]   2011-10-28   \n",
       "4                92.0             [Comedy, Family]   2012-04-13   \n",
       "...               ...                          ...          ...   \n",
       "1417             99.0           [Horror, Thriller]   2019-05-31   \n",
       "1418            116.0     [Crime, Drama, Thriller]   2018-12-14   \n",
       "1419            100.0     [Drama, Horror, Mystery]   2019-02-13   \n",
       "1420            128.0                [Documentary]   2018-09-21   \n",
       "1421            106.0           [Biography, Drama]   2019-03-29   \n",
       "\n",
       "      production_budget  domestic_gross  worldwide_gross  tn_id  \\\n",
       "0              91000000        58236838        187861183    436   \n",
       "1              28000000        26017685         62108587   2066   \n",
       "2             215000000       652270625       1648854864     33   \n",
       "3              45000000        13109815         21544732   1315   \n",
       "4              30000000        44338224         54052249   1903   \n",
       "...                 ...             ...              ...    ...   \n",
       "1417            5000000        36049540         44300625   4265   \n",
       "1418           50000000       103804407        170857676   1099   \n",
       "1419            9000000        28051045         64179495   3777   \n",
       "1420            5000000         6352306          6653715   4328   \n",
       "1421            6000000        18107621         18107621   4132   \n",
       "\n",
       "      worldwide_profit  domestic_profit  \n",
       "0             96861183        -32763162  \n",
       "1             34108587         -1982315  \n",
       "2           1433854864        437270625  \n",
       "3            -23455268        -31890185  \n",
       "4             24052249         14338224  \n",
       "...                ...              ...  \n",
       "1417          39300625         31049540  \n",
       "1418         120857676         53804407  \n",
       "1419          55179495         19051045  \n",
       "1420           1653715          1352306  \n",
       "1421          12107621         12107621  \n",
       "\n",
       "[1422 rows x 12 columns]"
      ],
      "text/html": "<div>\n<style scoped>\n    .dataframe tbody tr th:only-of-type {\n        vertical-align: middle;\n    }\n\n    .dataframe tbody tr th {\n        vertical-align: top;\n    }\n\n    .dataframe thead th {\n        text-align: right;\n    }\n</style>\n<table border=\"1\" class=\"dataframe\">\n  <thead>\n    <tr style=\"text-align: right;\">\n      <th></th>\n      <th>tconst</th>\n      <th>title</th>\n      <th>release_year</th>\n      <th>runtime_minutes</th>\n      <th>genres</th>\n      <th>release_date</th>\n      <th>production_budget</th>\n      <th>domestic_gross</th>\n      <th>worldwide_gross</th>\n      <th>tn_id</th>\n      <th>worldwide_profit</th>\n      <th>domestic_profit</th>\n    </tr>\n  </thead>\n  <tbody>\n    <tr>\n      <th>0</th>\n      <td>tt0359950</td>\n      <td>The Secret Life of Walter Mitty</td>\n      <td>2013</td>\n      <td>114.0</td>\n      <td>[Adventure, Comedy, Drama]</td>\n      <td>2013-12-25</td>\n      <td>91000000</td>\n      <td>58236838</td>\n      <td>187861183</td>\n      <td>436</td>\n      <td>96861183</td>\n      <td>-32763162</td>\n    </tr>\n    <tr>\n      <th>1</th>\n      <td>tt0365907</td>\n      <td>A Walk Among the Tombstones</td>\n      <td>2014</td>\n      <td>114.0</td>\n      <td>[Action, Crime, Drama]</td>\n      <td>2014-09-19</td>\n      <td>28000000</td>\n      <td>26017685</td>\n      <td>62108587</td>\n      <td>2066</td>\n      <td>34108587</td>\n      <td>-1982315</td>\n    </tr>\n    <tr>\n      <th>2</th>\n      <td>tt0369610</td>\n      <td>Jurassic World</td>\n      <td>2015</td>\n      <td>124.0</td>\n      <td>[Action, Adventure, Sci-Fi]</td>\n      <td>2015-06-12</td>\n      <td>215000000</td>\n      <td>652270625</td>\n      <td>1648854864</td>\n      <td>33</td>\n      <td>1433854864</td>\n      <td>437270625</td>\n    </tr>\n    <tr>\n      <th>3</th>\n      <td>tt0376136</td>\n      <td>The Rum Diary</td>\n      <td>2011</td>\n      <td>119.0</td>\n      <td>[Comedy, Drama]</td>\n      <td>2011-10-28</td>\n      <td>45000000</td>\n      <td>13109815</td>\n      <td>21544732</td>\n      <td>1315</td>\n      <td>-23455268</td>\n      <td>-31890185</td>\n    </tr>\n    <tr>\n      <th>4</th>\n      <td>tt0383010</td>\n      <td>The Three Stooges</td>\n      <td>2012</td>\n      <td>92.0</td>\n      <td>[Comedy, Family]</td>\n      <td>2012-04-13</td>\n      <td>30000000</td>\n      <td>44338224</td>\n      <td>54052249</td>\n      <td>1903</td>\n      <td>24052249</td>\n      <td>14338224</td>\n    </tr>\n    <tr>\n      <th>...</th>\n      <td>...</td>\n      <td>...</td>\n      <td>...</td>\n      <td>...</td>\n      <td>...</td>\n      <td>...</td>\n      <td>...</td>\n      <td>...</td>\n      <td>...</td>\n      <td>...</td>\n      <td>...</td>\n      <td>...</td>\n    </tr>\n    <tr>\n      <th>1417</th>\n      <td>tt7958736</td>\n      <td>Ma</td>\n      <td>2019</td>\n      <td>99.0</td>\n      <td>[Horror, Thriller]</td>\n      <td>2019-05-31</td>\n      <td>5000000</td>\n      <td>36049540</td>\n      <td>44300625</td>\n      <td>4265</td>\n      <td>39300625</td>\n      <td>31049540</td>\n    </tr>\n    <tr>\n      <th>1418</th>\n      <td>tt7959026</td>\n      <td>The Mule</td>\n      <td>2018</td>\n      <td>116.0</td>\n      <td>[Crime, Drama, Thriller]</td>\n      <td>2018-12-14</td>\n      <td>50000000</td>\n      <td>103804407</td>\n      <td>170857676</td>\n      <td>1099</td>\n      <td>120857676</td>\n      <td>53804407</td>\n    </tr>\n    <tr>\n      <th>1419</th>\n      <td>tt8155288</td>\n      <td>Happy Death Day 2U</td>\n      <td>2019</td>\n      <td>100.0</td>\n      <td>[Drama, Horror, Mystery]</td>\n      <td>2019-02-13</td>\n      <td>9000000</td>\n      <td>28051045</td>\n      <td>64179495</td>\n      <td>3777</td>\n      <td>55179495</td>\n      <td>19051045</td>\n    </tr>\n    <tr>\n      <th>1420</th>\n      <td>tt8632862</td>\n      <td>Fahrenheit 11/9</td>\n      <td>2018</td>\n      <td>128.0</td>\n      <td>[Documentary]</td>\n      <td>2018-09-21</td>\n      <td>5000000</td>\n      <td>6352306</td>\n      <td>6653715</td>\n      <td>4328</td>\n      <td>1653715</td>\n      <td>1352306</td>\n    </tr>\n    <tr>\n      <th>1421</th>\n      <td>tt9024106</td>\n      <td>Unplanned</td>\n      <td>2019</td>\n      <td>106.0</td>\n      <td>[Biography, Drama]</td>\n      <td>2019-03-29</td>\n      <td>6000000</td>\n      <td>18107621</td>\n      <td>18107621</td>\n      <td>4132</td>\n      <td>12107621</td>\n      <td>12107621</td>\n    </tr>\n  </tbody>\n</table>\n<p>1422 rows × 12 columns</p>\n</div>"
     },
     "metadata": {},
     "execution_count": 6
    }
   ],
   "source": [
    "imdb_tn = pd.read_json(os.path.join('cleanData', 'imdb.tn.profit.json.gz'), convert_dates=['release_date'], date_unit='ms')\n",
    "imdb_tn"
   ]
  },
  {
   "cell_type": "code",
   "execution_count": 7,
   "metadata": {},
   "outputs": [],
   "source": [
    "imdb_tn['profit_decile'] = pd.qcut(imdb_tn['worldwide_profit'], 10, labels=range(10))"
   ]
  },
  {
   "cell_type": "code",
   "execution_count": 8,
   "metadata": {},
   "outputs": [
    {
     "output_type": "execute_result",
     "data": {
      "text/plain": [
       "         tconst  ordering     nconst category         primary_name  \\\n",
       "0     tt0475290         1  nm0000982    actor          Josh Brolin   \n",
       "1     tt0475290         2  nm0000123    actor       George Clooney   \n",
       "2     tt0475290         3  nm2403277    actor     Alden Ehrenreich   \n",
       "3     tt0475290         4  nm0000146    actor        Ralph Fiennes   \n",
       "4     tt1124037         1  nm0000190    actor  Matthew McConaughey   \n",
       "...         ...       ...        ...      ...                  ...   \n",
       "3461  tt6266538         1  nm0000288    actor       Christian Bale   \n",
       "3462  tt6266538         3  nm0136797    actor         Steve Carell   \n",
       "3463  tt6266538         4  nm0005377    actor         Sam Rockwell   \n",
       "3464  tt6628394         1  nm0000313    actor         Jeff Bridges   \n",
       "3465  tt6628394         4  nm0358316    actor             Jon Hamm   \n",
       "\n",
       "                           title  domestic_profit  worldwide_profit  \\\n",
       "0                  Hail, Caesar!          8080225          42160680   \n",
       "1                  Hail, Caesar!          8080225          42160680   \n",
       "2                  Hail, Caesar!          8080225          42160680   \n",
       "3                  Hail, Caesar!          8080225          42160680   \n",
       "4            Free State of Jones        -29189964         -26762748   \n",
       "...                          ...              ...               ...   \n",
       "3461                        Vice        -12163718          10883171   \n",
       "3462                        Vice        -12163718          10883171   \n",
       "3463                        Vice        -12163718          10883171   \n",
       "3464  Bad Times at the El Royale        -14160885          -2795621   \n",
       "3465  Bad Times at the El Royale        -14160885          -2795621   \n",
       "\n",
       "     profit_decile  \n",
       "0                5  \n",
       "1                5  \n",
       "2                5  \n",
       "3                5  \n",
       "4                0  \n",
       "...            ...  \n",
       "3461             3  \n",
       "3462             3  \n",
       "3463             3  \n",
       "3464             1  \n",
       "3465             1  \n",
       "\n",
       "[3466 rows x 9 columns]"
      ],
      "text/html": "<div>\n<style scoped>\n    .dataframe tbody tr th:only-of-type {\n        vertical-align: middle;\n    }\n\n    .dataframe tbody tr th {\n        vertical-align: top;\n    }\n\n    .dataframe thead th {\n        text-align: right;\n    }\n</style>\n<table border=\"1\" class=\"dataframe\">\n  <thead>\n    <tr style=\"text-align: right;\">\n      <th></th>\n      <th>tconst</th>\n      <th>ordering</th>\n      <th>nconst</th>\n      <th>category</th>\n      <th>primary_name</th>\n      <th>title</th>\n      <th>domestic_profit</th>\n      <th>worldwide_profit</th>\n      <th>profit_decile</th>\n    </tr>\n  </thead>\n  <tbody>\n    <tr>\n      <th>0</th>\n      <td>tt0475290</td>\n      <td>1</td>\n      <td>nm0000982</td>\n      <td>actor</td>\n      <td>Josh Brolin</td>\n      <td>Hail, Caesar!</td>\n      <td>8080225</td>\n      <td>42160680</td>\n      <td>5</td>\n    </tr>\n    <tr>\n      <th>1</th>\n      <td>tt0475290</td>\n      <td>2</td>\n      <td>nm0000123</td>\n      <td>actor</td>\n      <td>George Clooney</td>\n      <td>Hail, Caesar!</td>\n      <td>8080225</td>\n      <td>42160680</td>\n      <td>5</td>\n    </tr>\n    <tr>\n      <th>2</th>\n      <td>tt0475290</td>\n      <td>3</td>\n      <td>nm2403277</td>\n      <td>actor</td>\n      <td>Alden Ehrenreich</td>\n      <td>Hail, Caesar!</td>\n      <td>8080225</td>\n      <td>42160680</td>\n      <td>5</td>\n    </tr>\n    <tr>\n      <th>3</th>\n      <td>tt0475290</td>\n      <td>4</td>\n      <td>nm0000146</td>\n      <td>actor</td>\n      <td>Ralph Fiennes</td>\n      <td>Hail, Caesar!</td>\n      <td>8080225</td>\n      <td>42160680</td>\n      <td>5</td>\n    </tr>\n    <tr>\n      <th>4</th>\n      <td>tt1124037</td>\n      <td>1</td>\n      <td>nm0000190</td>\n      <td>actor</td>\n      <td>Matthew McConaughey</td>\n      <td>Free State of Jones</td>\n      <td>-29189964</td>\n      <td>-26762748</td>\n      <td>0</td>\n    </tr>\n    <tr>\n      <th>...</th>\n      <td>...</td>\n      <td>...</td>\n      <td>...</td>\n      <td>...</td>\n      <td>...</td>\n      <td>...</td>\n      <td>...</td>\n      <td>...</td>\n      <td>...</td>\n    </tr>\n    <tr>\n      <th>3461</th>\n      <td>tt6266538</td>\n      <td>1</td>\n      <td>nm0000288</td>\n      <td>actor</td>\n      <td>Christian Bale</td>\n      <td>Vice</td>\n      <td>-12163718</td>\n      <td>10883171</td>\n      <td>3</td>\n    </tr>\n    <tr>\n      <th>3462</th>\n      <td>tt6266538</td>\n      <td>3</td>\n      <td>nm0136797</td>\n      <td>actor</td>\n      <td>Steve Carell</td>\n      <td>Vice</td>\n      <td>-12163718</td>\n      <td>10883171</td>\n      <td>3</td>\n    </tr>\n    <tr>\n      <th>3463</th>\n      <td>tt6266538</td>\n      <td>4</td>\n      <td>nm0005377</td>\n      <td>actor</td>\n      <td>Sam Rockwell</td>\n      <td>Vice</td>\n      <td>-12163718</td>\n      <td>10883171</td>\n      <td>3</td>\n    </tr>\n    <tr>\n      <th>3464</th>\n      <td>tt6628394</td>\n      <td>1</td>\n      <td>nm0000313</td>\n      <td>actor</td>\n      <td>Jeff Bridges</td>\n      <td>Bad Times at the El Royale</td>\n      <td>-14160885</td>\n      <td>-2795621</td>\n      <td>1</td>\n    </tr>\n    <tr>\n      <th>3465</th>\n      <td>tt6628394</td>\n      <td>4</td>\n      <td>nm0358316</td>\n      <td>actor</td>\n      <td>Jon Hamm</td>\n      <td>Bad Times at the El Royale</td>\n      <td>-14160885</td>\n      <td>-2795621</td>\n      <td>1</td>\n    </tr>\n  </tbody>\n</table>\n<p>3466 rows × 9 columns</p>\n</div>"
     },
     "metadata": {},
     "execution_count": 8
    }
   ],
   "source": [
    "profit_df = imdb_tn.loc[:, ['tconst', 'title', 'domestic_profit', 'worldwide_profit', 'profit_decile']]\n",
    "act_df = act_df.merge(profit_df, how='inner', on=['tconst'])\n",
    "act_df"
   ]
  },
  {
   "cell_type": "code",
   "execution_count": null,
   "metadata": {},
   "outputs": [],
   "source": [
    "combos2 = analysis.combo_table(act_df, 'tconst', 'nconst')\n",
    "combos2"
   ]
  },
  {
   "cell_type": "code",
   "execution_count": 19,
   "metadata": {},
   "outputs": [
    {
     "output_type": "execute_result",
     "data": {
      "text/plain": [
       "          nm0000982 nm0000123 nm2403277 nm0000146 nm0000190 nm0991810  \\\n",
       "tt0475290       NaN       NaN       NaN       NaN       NaN       NaN   \n",
       "tt1124037       NaN       NaN       NaN       NaN       NaN       NaN   \n",
       "tt1216492       NaN       NaN       NaN       NaN       NaN       NaN   \n",
       "tt1226229       NaN       NaN       NaN       NaN       NaN       NaN   \n",
       "tt1251743       NaN       NaN       NaN       NaN       NaN       NaN   \n",
       "...             ...       ...       ...       ...       ...       ...   \n",
       "tt7634968       NaN       NaN       NaN       NaN       NaN       NaN   \n",
       "tt7153766       NaN       NaN       NaN       NaN       NaN       NaN   \n",
       "tt7752126       NaN       NaN       NaN       NaN       NaN       NaN   \n",
       "tt6266538       NaN       NaN       NaN       NaN       NaN       NaN   \n",
       "tt6628394       NaN       NaN       NaN       NaN       NaN       NaN   \n",
       "\n",
       "          nm0328828 nm0004395 nm0001475 nm1706767  ... nm3450051 nm7059572  \\\n",
       "tt0475290       NaN       NaN       NaN       NaN  ...       NaN       NaN   \n",
       "tt1124037       NaN       NaN       NaN       NaN  ...       NaN       NaN   \n",
       "tt1216492       NaN       NaN       NaN       NaN  ...       NaN       NaN   \n",
       "tt1226229       NaN       NaN       NaN       NaN  ...       NaN       NaN   \n",
       "tt1251743       NaN       NaN       NaN       NaN  ...       NaN       NaN   \n",
       "...             ...       ...       ...       ...  ...       ...       ...   \n",
       "tt7634968       NaN       NaN       NaN       NaN  ...       NaN       NaN   \n",
       "tt7153766       NaN       NaN       NaN       NaN  ...       NaN       NaN   \n",
       "tt7752126       NaN       NaN       NaN       NaN  ...       NaN       NaN   \n",
       "tt6266538       NaN       NaN       NaN       NaN  ...       NaN       NaN   \n",
       "tt6628394       NaN       NaN       NaN       NaN  ...       NaN       NaN   \n",
       "\n",
       "          nm5618577 nm5237225 nm8722479 nm0012081 nm0710330 nm3982894  \\\n",
       "tt0475290       NaN       NaN       NaN       NaN       NaN       NaN   \n",
       "tt1124037       NaN       NaN       NaN       NaN       NaN       NaN   \n",
       "tt1216492       NaN       NaN       NaN       NaN       NaN       NaN   \n",
       "tt1226229       NaN       NaN       NaN       NaN       NaN       NaN   \n",
       "tt1251743       NaN       NaN       NaN       NaN       NaN       NaN   \n",
       "...             ...       ...       ...       ...       ...       ...   \n",
       "tt7634968       NaN       NaN       NaN       NaN       NaN       NaN   \n",
       "tt7153766       NaN       NaN       NaN       NaN       NaN       NaN   \n",
       "tt7752126       NaN       NaN       NaN       NaN       NaN       NaN   \n",
       "tt6266538       NaN       NaN       NaN       NaN       NaN       NaN   \n",
       "tt6628394       NaN       NaN       NaN       NaN       NaN       NaN   \n",
       "\n",
       "          nm6676262 nm6561765  \n",
       "tt0475290       NaN       NaN  \n",
       "tt1124037       NaN       NaN  \n",
       "tt1216492       NaN       NaN  \n",
       "tt1226229       NaN       NaN  \n",
       "tt1251743       NaN       NaN  \n",
       "...             ...       ...  \n",
       "tt7634968       NaN       NaN  \n",
       "tt7153766       NaN       NaN  \n",
       "tt7752126       NaN       NaN  \n",
       "tt6266538       NaN       NaN  \n",
       "tt6628394       NaN       NaN  \n",
       "\n",
       "[1355 rows x 1616 columns]"
      ],
      "text/html": "<div>\n<style scoped>\n    .dataframe tbody tr th:only-of-type {\n        vertical-align: middle;\n    }\n\n    .dataframe tbody tr th {\n        vertical-align: top;\n    }\n\n    .dataframe thead th {\n        text-align: right;\n    }\n</style>\n<table border=\"1\" class=\"dataframe\">\n  <thead>\n    <tr style=\"text-align: right;\">\n      <th></th>\n      <th>nm0000982</th>\n      <th>nm0000123</th>\n      <th>nm2403277</th>\n      <th>nm0000146</th>\n      <th>nm0000190</th>\n      <th>nm0991810</th>\n      <th>nm0328828</th>\n      <th>nm0004395</th>\n      <th>nm0001475</th>\n      <th>nm1706767</th>\n      <th>...</th>\n      <th>nm3450051</th>\n      <th>nm7059572</th>\n      <th>nm5618577</th>\n      <th>nm5237225</th>\n      <th>nm8722479</th>\n      <th>nm0012081</th>\n      <th>nm0710330</th>\n      <th>nm3982894</th>\n      <th>nm6676262</th>\n      <th>nm6561765</th>\n    </tr>\n  </thead>\n  <tbody>\n    <tr>\n      <th>tt0475290</th>\n      <td>NaN</td>\n      <td>NaN</td>\n      <td>NaN</td>\n      <td>NaN</td>\n      <td>NaN</td>\n      <td>NaN</td>\n      <td>NaN</td>\n      <td>NaN</td>\n      <td>NaN</td>\n      <td>NaN</td>\n      <td>...</td>\n      <td>NaN</td>\n      <td>NaN</td>\n      <td>NaN</td>\n      <td>NaN</td>\n      <td>NaN</td>\n      <td>NaN</td>\n      <td>NaN</td>\n      <td>NaN</td>\n      <td>NaN</td>\n      <td>NaN</td>\n    </tr>\n    <tr>\n      <th>tt1124037</th>\n      <td>NaN</td>\n      <td>NaN</td>\n      <td>NaN</td>\n      <td>NaN</td>\n      <td>NaN</td>\n      <td>NaN</td>\n      <td>NaN</td>\n      <td>NaN</td>\n      <td>NaN</td>\n      <td>NaN</td>\n      <td>...</td>\n      <td>NaN</td>\n      <td>NaN</td>\n      <td>NaN</td>\n      <td>NaN</td>\n      <td>NaN</td>\n      <td>NaN</td>\n      <td>NaN</td>\n      <td>NaN</td>\n      <td>NaN</td>\n      <td>NaN</td>\n    </tr>\n    <tr>\n      <th>tt1216492</th>\n      <td>NaN</td>\n      <td>NaN</td>\n      <td>NaN</td>\n      <td>NaN</td>\n      <td>NaN</td>\n      <td>NaN</td>\n      <td>NaN</td>\n      <td>NaN</td>\n      <td>NaN</td>\n      <td>NaN</td>\n      <td>...</td>\n      <td>NaN</td>\n      <td>NaN</td>\n      <td>NaN</td>\n      <td>NaN</td>\n      <td>NaN</td>\n      <td>NaN</td>\n      <td>NaN</td>\n      <td>NaN</td>\n      <td>NaN</td>\n      <td>NaN</td>\n    </tr>\n    <tr>\n      <th>tt1226229</th>\n      <td>NaN</td>\n      <td>NaN</td>\n      <td>NaN</td>\n      <td>NaN</td>\n      <td>NaN</td>\n      <td>NaN</td>\n      <td>NaN</td>\n      <td>NaN</td>\n      <td>NaN</td>\n      <td>NaN</td>\n      <td>...</td>\n      <td>NaN</td>\n      <td>NaN</td>\n      <td>NaN</td>\n      <td>NaN</td>\n      <td>NaN</td>\n      <td>NaN</td>\n      <td>NaN</td>\n      <td>NaN</td>\n      <td>NaN</td>\n      <td>NaN</td>\n    </tr>\n    <tr>\n      <th>tt1251743</th>\n      <td>NaN</td>\n      <td>NaN</td>\n      <td>NaN</td>\n      <td>NaN</td>\n      <td>NaN</td>\n      <td>NaN</td>\n      <td>NaN</td>\n      <td>NaN</td>\n      <td>NaN</td>\n      <td>NaN</td>\n      <td>...</td>\n      <td>NaN</td>\n      <td>NaN</td>\n      <td>NaN</td>\n      <td>NaN</td>\n      <td>NaN</td>\n      <td>NaN</td>\n      <td>NaN</td>\n      <td>NaN</td>\n      <td>NaN</td>\n      <td>NaN</td>\n    </tr>\n    <tr>\n      <th>...</th>\n      <td>...</td>\n      <td>...</td>\n      <td>...</td>\n      <td>...</td>\n      <td>...</td>\n      <td>...</td>\n      <td>...</td>\n      <td>...</td>\n      <td>...</td>\n      <td>...</td>\n      <td>...</td>\n      <td>...</td>\n      <td>...</td>\n      <td>...</td>\n      <td>...</td>\n      <td>...</td>\n      <td>...</td>\n      <td>...</td>\n      <td>...</td>\n      <td>...</td>\n      <td>...</td>\n    </tr>\n    <tr>\n      <th>tt7634968</th>\n      <td>NaN</td>\n      <td>NaN</td>\n      <td>NaN</td>\n      <td>NaN</td>\n      <td>NaN</td>\n      <td>NaN</td>\n      <td>NaN</td>\n      <td>NaN</td>\n      <td>NaN</td>\n      <td>NaN</td>\n      <td>...</td>\n      <td>NaN</td>\n      <td>NaN</td>\n      <td>NaN</td>\n      <td>NaN</td>\n      <td>NaN</td>\n      <td>NaN</td>\n      <td>NaN</td>\n      <td>NaN</td>\n      <td>NaN</td>\n      <td>NaN</td>\n    </tr>\n    <tr>\n      <th>tt7153766</th>\n      <td>NaN</td>\n      <td>NaN</td>\n      <td>NaN</td>\n      <td>NaN</td>\n      <td>NaN</td>\n      <td>NaN</td>\n      <td>NaN</td>\n      <td>NaN</td>\n      <td>NaN</td>\n      <td>NaN</td>\n      <td>...</td>\n      <td>NaN</td>\n      <td>NaN</td>\n      <td>NaN</td>\n      <td>NaN</td>\n      <td>NaN</td>\n      <td>NaN</td>\n      <td>NaN</td>\n      <td>NaN</td>\n      <td>NaN</td>\n      <td>NaN</td>\n    </tr>\n    <tr>\n      <th>tt7752126</th>\n      <td>NaN</td>\n      <td>NaN</td>\n      <td>NaN</td>\n      <td>NaN</td>\n      <td>NaN</td>\n      <td>NaN</td>\n      <td>NaN</td>\n      <td>NaN</td>\n      <td>NaN</td>\n      <td>NaN</td>\n      <td>...</td>\n      <td>NaN</td>\n      <td>NaN</td>\n      <td>NaN</td>\n      <td>NaN</td>\n      <td>NaN</td>\n      <td>NaN</td>\n      <td>NaN</td>\n      <td>NaN</td>\n      <td>NaN</td>\n      <td>NaN</td>\n    </tr>\n    <tr>\n      <th>tt6266538</th>\n      <td>NaN</td>\n      <td>NaN</td>\n      <td>NaN</td>\n      <td>NaN</td>\n      <td>NaN</td>\n      <td>NaN</td>\n      <td>NaN</td>\n      <td>NaN</td>\n      <td>NaN</td>\n      <td>NaN</td>\n      <td>...</td>\n      <td>NaN</td>\n      <td>NaN</td>\n      <td>NaN</td>\n      <td>NaN</td>\n      <td>NaN</td>\n      <td>NaN</td>\n      <td>NaN</td>\n      <td>NaN</td>\n      <td>NaN</td>\n      <td>NaN</td>\n    </tr>\n    <tr>\n      <th>tt6628394</th>\n      <td>NaN</td>\n      <td>NaN</td>\n      <td>NaN</td>\n      <td>NaN</td>\n      <td>NaN</td>\n      <td>NaN</td>\n      <td>NaN</td>\n      <td>NaN</td>\n      <td>NaN</td>\n      <td>NaN</td>\n      <td>...</td>\n      <td>NaN</td>\n      <td>NaN</td>\n      <td>NaN</td>\n      <td>NaN</td>\n      <td>NaN</td>\n      <td>NaN</td>\n      <td>NaN</td>\n      <td>NaN</td>\n      <td>NaN</td>\n      <td>NaN</td>\n    </tr>\n  </tbody>\n</table>\n<p>1355 rows × 1616 columns</p>\n</div>"
     },
     "metadata": {},
     "execution_count": 19
    }
   ],
   "source": [
    "combos = pd.DataFrame(index=act_df.tconst.unique(), columns=act_df.nconst.unique())\n",
    "combos"
   ]
  },
  {
   "cell_type": "code",
   "execution_count": 44,
   "metadata": {},
   "outputs": [
    {
     "output_type": "execute_result",
     "data": {
      "text/plain": [
       "tconst\n",
       "tt0475290    nm0000982\n",
       "tt0475290    nm0000123\n",
       "tt0475290    nm2403277\n",
       "tt0475290    nm0000146\n",
       "tt1124037    nm0000190\n",
       "               ...    \n",
       "tt6266538    nm0000288\n",
       "tt6266538    nm0136797\n",
       "tt6266538    nm0005377\n",
       "tt6628394    nm0000313\n",
       "tt6628394    nm0358316\n",
       "Name: nconst, Length: 3466, dtype: object"
      ]
     },
     "metadata": {},
     "execution_count": 44
    }
   ],
   "source": [
    "id_mapping = act_df.set_index('tconst')['nconst']\n",
    "id_mapping"
   ]
  },
  {
   "cell_type": "code",
   "execution_count": 42,
   "metadata": {},
   "outputs": [
    {
     "output_type": "execute_result",
     "data": {
      "text/plain": [
       "          nm0000982 nm0000123 nm2403277 nm0000146 nm0000190 nm0991810  \\\n",
       "tt0475290      True      True      True      True     False     False   \n",
       "tt1124037     False     False     False     False      True      True   \n",
       "tt1216492     False     False     False     False     False     False   \n",
       "tt1226229     False     False     False     False     False     False   \n",
       "tt1251743     False     False     False     False     False     False   \n",
       "...             ...       ...       ...       ...       ...       ...   \n",
       "tt7634968     False     False     False     False     False     False   \n",
       "tt7153766     False     False     False     False     False     False   \n",
       "tt7752126     False     False     False     False     False     False   \n",
       "tt6266538     False     False     False     False     False     False   \n",
       "tt6628394     False     False     False     False     False     False   \n",
       "\n",
       "          nm0328828 nm0004395 nm0001475 nm1706767  ... nm3450051 nm7059572  \\\n",
       "tt0475290     False     False     False     False  ...     False     False   \n",
       "tt1124037     False     False     False     False  ...     False     False   \n",
       "tt1216492      True      True      True     False  ...     False     False   \n",
       "tt1226229     False     False     False      True  ...     False     False   \n",
       "tt1251743     False     False     False     False  ...     False     False   \n",
       "...             ...       ...       ...       ...  ...       ...       ...   \n",
       "tt7634968     False     False     False     False  ...     False     False   \n",
       "tt7153766     False     False     False     False  ...     False     False   \n",
       "tt7752126     False     False     False     False  ...     False     False   \n",
       "tt6266538     False     False     False     False  ...     False     False   \n",
       "tt6628394     False     False     False     False  ...     False     False   \n",
       "\n",
       "          nm5618577 nm5237225 nm8722479 nm0012081 nm0710330 nm3982894  \\\n",
       "tt0475290     False     False     False     False     False     False   \n",
       "tt1124037     False     False     False     False     False     False   \n",
       "tt1216492     False     False     False     False     False     False   \n",
       "tt1226229     False     False     False     False     False     False   \n",
       "tt1251743     False     False     False     False     False     False   \n",
       "...             ...       ...       ...       ...       ...       ...   \n",
       "tt7634968     False     False     False     False     False     False   \n",
       "tt7153766     False     False     False     False     False      True   \n",
       "tt7752126     False     False     False     False     False     False   \n",
       "tt6266538     False     False     False     False     False     False   \n",
       "tt6628394     False     False     False     False     False     False   \n",
       "\n",
       "          nm6676262 nm6561765  \n",
       "tt0475290     False     False  \n",
       "tt1124037     False     False  \n",
       "tt1216492     False     False  \n",
       "tt1226229     False     False  \n",
       "tt1251743     False     False  \n",
       "...             ...       ...  \n",
       "tt7634968     False     False  \n",
       "tt7153766     False     False  \n",
       "tt7752126      True      True  \n",
       "tt6266538     False     False  \n",
       "tt6628394     False     False  \n",
       "\n",
       "[1355 rows x 1616 columns]"
      ],
      "text/html": "<div>\n<style scoped>\n    .dataframe tbody tr th:only-of-type {\n        vertical-align: middle;\n    }\n\n    .dataframe tbody tr th {\n        vertical-align: top;\n    }\n\n    .dataframe thead th {\n        text-align: right;\n    }\n</style>\n<table border=\"1\" class=\"dataframe\">\n  <thead>\n    <tr style=\"text-align: right;\">\n      <th></th>\n      <th>nm0000982</th>\n      <th>nm0000123</th>\n      <th>nm2403277</th>\n      <th>nm0000146</th>\n      <th>nm0000190</th>\n      <th>nm0991810</th>\n      <th>nm0328828</th>\n      <th>nm0004395</th>\n      <th>nm0001475</th>\n      <th>nm1706767</th>\n      <th>...</th>\n      <th>nm3450051</th>\n      <th>nm7059572</th>\n      <th>nm5618577</th>\n      <th>nm5237225</th>\n      <th>nm8722479</th>\n      <th>nm0012081</th>\n      <th>nm0710330</th>\n      <th>nm3982894</th>\n      <th>nm6676262</th>\n      <th>nm6561765</th>\n    </tr>\n  </thead>\n  <tbody>\n    <tr>\n      <th>tt0475290</th>\n      <td>True</td>\n      <td>True</td>\n      <td>True</td>\n      <td>True</td>\n      <td>False</td>\n      <td>False</td>\n      <td>False</td>\n      <td>False</td>\n      <td>False</td>\n      <td>False</td>\n      <td>...</td>\n      <td>False</td>\n      <td>False</td>\n      <td>False</td>\n      <td>False</td>\n      <td>False</td>\n      <td>False</td>\n      <td>False</td>\n      <td>False</td>\n      <td>False</td>\n      <td>False</td>\n    </tr>\n    <tr>\n      <th>tt1124037</th>\n      <td>False</td>\n      <td>False</td>\n      <td>False</td>\n      <td>False</td>\n      <td>True</td>\n      <td>True</td>\n      <td>False</td>\n      <td>False</td>\n      <td>False</td>\n      <td>False</td>\n      <td>...</td>\n      <td>False</td>\n      <td>False</td>\n      <td>False</td>\n      <td>False</td>\n      <td>False</td>\n      <td>False</td>\n      <td>False</td>\n      <td>False</td>\n      <td>False</td>\n      <td>False</td>\n    </tr>\n    <tr>\n      <th>tt1216492</th>\n      <td>False</td>\n      <td>False</td>\n      <td>False</td>\n      <td>False</td>\n      <td>False</td>\n      <td>False</td>\n      <td>True</td>\n      <td>True</td>\n      <td>True</td>\n      <td>False</td>\n      <td>...</td>\n      <td>False</td>\n      <td>False</td>\n      <td>False</td>\n      <td>False</td>\n      <td>False</td>\n      <td>False</td>\n      <td>False</td>\n      <td>False</td>\n      <td>False</td>\n      <td>False</td>\n    </tr>\n    <tr>\n      <th>tt1226229</th>\n      <td>False</td>\n      <td>False</td>\n      <td>False</td>\n      <td>False</td>\n      <td>False</td>\n      <td>False</td>\n      <td>False</td>\n      <td>False</td>\n      <td>False</td>\n      <td>True</td>\n      <td>...</td>\n      <td>False</td>\n      <td>False</td>\n      <td>False</td>\n      <td>False</td>\n      <td>False</td>\n      <td>False</td>\n      <td>False</td>\n      <td>False</td>\n      <td>False</td>\n      <td>False</td>\n    </tr>\n    <tr>\n      <th>tt1251743</th>\n      <td>False</td>\n      <td>False</td>\n      <td>False</td>\n      <td>False</td>\n      <td>False</td>\n      <td>False</td>\n      <td>False</td>\n      <td>False</td>\n      <td>False</td>\n      <td>False</td>\n      <td>...</td>\n      <td>False</td>\n      <td>False</td>\n      <td>False</td>\n      <td>False</td>\n      <td>False</td>\n      <td>False</td>\n      <td>False</td>\n      <td>False</td>\n      <td>False</td>\n      <td>False</td>\n    </tr>\n    <tr>\n      <th>...</th>\n      <td>...</td>\n      <td>...</td>\n      <td>...</td>\n      <td>...</td>\n      <td>...</td>\n      <td>...</td>\n      <td>...</td>\n      <td>...</td>\n      <td>...</td>\n      <td>...</td>\n      <td>...</td>\n      <td>...</td>\n      <td>...</td>\n      <td>...</td>\n      <td>...</td>\n      <td>...</td>\n      <td>...</td>\n      <td>...</td>\n      <td>...</td>\n      <td>...</td>\n      <td>...</td>\n    </tr>\n    <tr>\n      <th>tt7634968</th>\n      <td>False</td>\n      <td>False</td>\n      <td>False</td>\n      <td>False</td>\n      <td>False</td>\n      <td>False</td>\n      <td>False</td>\n      <td>False</td>\n      <td>False</td>\n      <td>False</td>\n      <td>...</td>\n      <td>False</td>\n      <td>False</td>\n      <td>False</td>\n      <td>False</td>\n      <td>False</td>\n      <td>False</td>\n      <td>False</td>\n      <td>False</td>\n      <td>False</td>\n      <td>False</td>\n    </tr>\n    <tr>\n      <th>tt7153766</th>\n      <td>False</td>\n      <td>False</td>\n      <td>False</td>\n      <td>False</td>\n      <td>False</td>\n      <td>False</td>\n      <td>False</td>\n      <td>False</td>\n      <td>False</td>\n      <td>False</td>\n      <td>...</td>\n      <td>False</td>\n      <td>False</td>\n      <td>False</td>\n      <td>False</td>\n      <td>False</td>\n      <td>False</td>\n      <td>False</td>\n      <td>True</td>\n      <td>False</td>\n      <td>False</td>\n    </tr>\n    <tr>\n      <th>tt7752126</th>\n      <td>False</td>\n      <td>False</td>\n      <td>False</td>\n      <td>False</td>\n      <td>False</td>\n      <td>False</td>\n      <td>False</td>\n      <td>False</td>\n      <td>False</td>\n      <td>False</td>\n      <td>...</td>\n      <td>False</td>\n      <td>False</td>\n      <td>False</td>\n      <td>False</td>\n      <td>False</td>\n      <td>False</td>\n      <td>False</td>\n      <td>False</td>\n      <td>True</td>\n      <td>True</td>\n    </tr>\n    <tr>\n      <th>tt6266538</th>\n      <td>False</td>\n      <td>False</td>\n      <td>False</td>\n      <td>False</td>\n      <td>False</td>\n      <td>False</td>\n      <td>False</td>\n      <td>False</td>\n      <td>False</td>\n      <td>False</td>\n      <td>...</td>\n      <td>False</td>\n      <td>False</td>\n      <td>False</td>\n      <td>False</td>\n      <td>False</td>\n      <td>False</td>\n      <td>False</td>\n      <td>False</td>\n      <td>False</td>\n      <td>False</td>\n    </tr>\n    <tr>\n      <th>tt6628394</th>\n      <td>False</td>\n      <td>False</td>\n      <td>False</td>\n      <td>False</td>\n      <td>False</td>\n      <td>False</td>\n      <td>False</td>\n      <td>False</td>\n      <td>False</td>\n      <td>False</td>\n      <td>...</td>\n      <td>False</td>\n      <td>False</td>\n      <td>False</td>\n      <td>False</td>\n      <td>False</td>\n      <td>False</td>\n      <td>False</td>\n      <td>False</td>\n      <td>False</td>\n      <td>False</td>\n    </tr>\n  </tbody>\n</table>\n<p>1355 rows × 1616 columns</p>\n</div>"
     },
     "metadata": {},
     "execution_count": 42
    }
   ],
   "source": [
    "for index, row in combos.iterrows():\n",
    "    cats_at_index = id_mapping[index]\n",
    "    if isinstance(cats_at_index, pd.Series):\n",
    "        cats_at_index = id_mapping[index].values\n",
    "        combos.loc[index] = row.index.isin(cats_at_index)\n",
    "    else:\n",
    "        combos.loc[index] = row.index == cats_at_index\n",
    "combos"
   ]
  },
  {
   "cell_type": "code",
   "execution_count": null,
   "metadata": {},
   "outputs": [],
   "source": []
  }
 ]
}